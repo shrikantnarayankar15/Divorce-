{
  "nbformat": 4,
  "nbformat_minor": 0,
  "metadata": {
    "colab": {
      "name": "EDA-relationship_divorce.ipynb",
      "provenance": [],
      "collapsed_sections": [],
      "authorship_tag": "ABX9TyNsQa6d6y8rU1NELTe7Pb6u",
      "include_colab_link": true
    },
    "kernelspec": {
      "name": "python3",
      "display_name": "Python 3"
    }
  },
  "cells": [
    {
      "cell_type": "markdown",
      "metadata": {
        "id": "view-in-github",
        "colab_type": "text"
      },
      "source": [
        "<a href=\"https://colab.research.google.com/github/shrikantnarayankar15/Divorce-/blob/master/EDA_relationship_divorce.ipynb\" target=\"_parent\"><img src=\"https://colab.research.google.com/assets/colab-badge.svg\" alt=\"Open In Colab\"/></a>"
      ]
    },
    {
      "cell_type": "code",
      "metadata": {
        "id": "B-m-UDahfOoB",
        "colab_type": "code",
        "colab": {}
      },
      "source": [
        "import pandas as pd\n",
        "import numpy as np\n",
        "import seaborn as sns"
      ],
      "execution_count": 0,
      "outputs": []
    },
    {
      "cell_type": "code",
      "metadata": {
        "id": "92zywbFqfbUe",
        "colab_type": "code",
        "colab": {}
      },
      "source": [
        "df = pd.read_csv(\"https://raw.githubusercontent.com/shrikantnarayankar15/Divorce-/master/UKDivorceAndMarriage.csv\")"
      ],
      "execution_count": 0,
      "outputs": []
    },
    {
      "cell_type": "code",
      "metadata": {
        "id": "9_vJz-Ojfkrl",
        "colab_type": "code",
        "outputId": "8c521f58-d3b3-46d9-9323-34f9211003a5",
        "colab": {
          "base_uri": "https://localhost:8080/",
          "height": 349
        }
      },
      "source": [
        "df.head()"
      ],
      "execution_count": 216,
      "outputs": [
        {
          "output_type": "execute_result",
          "data": {
            "text/html": [
              "<div>\n",
              "<style scoped>\n",
              "    .dataframe tbody tr th:only-of-type {\n",
              "        vertical-align: middle;\n",
              "    }\n",
              "\n",
              "    .dataframe tbody tr th {\n",
              "        vertical-align: top;\n",
              "    }\n",
              "\n",
              "    .dataframe thead th {\n",
              "        text-align: right;\n",
              "    }\n",
              "</style>\n",
              "<table border=\"1\" class=\"dataframe\">\n",
              "  <thead>\n",
              "    <tr style=\"text-align: right;\">\n",
              "      <th></th>\n",
              "      <th>Year</th>\n",
              "      <th>Total Number of Divorces</th>\n",
              "      <th>Husband Submitted Divorce</th>\n",
              "      <th>Wife Submitted Divorce</th>\n",
              "      <th>DRMale 20 to 24</th>\n",
              "      <th>DRMale 25 to 29</th>\n",
              "      <th>DRMale 30 to 34</th>\n",
              "      <th>DRMale 35 to 39</th>\n",
              "      <th>DRMale 40 to 44</th>\n",
              "      <th>DRMale 45 to 49</th>\n",
              "      <th>DRMale 50 to 54</th>\n",
              "      <th>DRMale 55 to 59</th>\n",
              "      <th>DRFemale 20 to 24</th>\n",
              "      <th>DRFemale 25 to 29</th>\n",
              "      <th>DRFemale 30 to 34</th>\n",
              "      <th>DRFemale 35 to 39</th>\n",
              "      <th>DRFemale 40 to 44</th>\n",
              "      <th>DRFemale 45 to 49</th>\n",
              "      <th>DRFemale 50 to 54</th>\n",
              "      <th>DRFemale 55 to 59</th>\n",
              "      <th>Husband Submitted - Reason Adultery</th>\n",
              "      <th>Husband Submitted - Reason Unreasonable Behaviour</th>\n",
              "      <th>Wife Submitted - Reason Adultery</th>\n",
              "      <th>Wife Submitted - Reason Unreasonable Behaviour</th>\n",
              "      <th>Total Number of Marriages</th>\n",
              "      <th>First marriage of both parties</th>\n",
              "      <th>One party previously divorced</th>\n",
              "      <th>Both parties previously divorced</th>\n",
              "      <th>Husband - Previously Divorced</th>\n",
              "      <th>Wife - Previously Divorced</th>\n",
              "      <th>Median Age of Single Males Marriage</th>\n",
              "      <th>Median Age of Single Females Marriage</th>\n",
              "      <th>Persons marrying per 1,000 population of all ages</th>\n",
              "      <th>Men marrying per 1,000 unmarried1 men aged 16 and over</th>\n",
              "      <th>Women marrying per 1,000 unmarried1 women aged 16 and over</th>\n",
              "      <th>Number Men First Time marrying per 1,000 single population aged 16 and over</th>\n",
              "      <th>Number Women First Time marrying per 1,000 single population aged 16 and over</th>\n",
              "      <th>Number Men Re-marrying per 1,000 single population aged 16 and over</th>\n",
              "      <th>Number Women Re-marrying per 1,000 single population aged 16 and over</th>\n",
              "    </tr>\n",
              "  </thead>\n",
              "  <tbody>\n",
              "    <tr>\n",
              "      <th>0</th>\n",
              "      <td>2016</td>\n",
              "      <td>106,959</td>\n",
              "      <td>41,669</td>\n",
              "      <td>65,290</td>\n",
              "      <td>9.4</td>\n",
              "      <td>13.2</td>\n",
              "      <td>13.0</td>\n",
              "      <td>13.4</td>\n",
              "      <td>13.6</td>\n",
              "      <td>13.8</td>\n",
              "      <td>10.8</td>\n",
              "      <td>7.8</td>\n",
              "      <td>11.8</td>\n",
              "      <td>12.7</td>\n",
              "      <td>13.9</td>\n",
              "      <td>13.9</td>\n",
              "      <td>13.7</td>\n",
              "      <td>12.9</td>\n",
              "      <td>9.3</td>\n",
              "      <td>5.9</td>\n",
              "      <td>4429.0</td>\n",
              "      <td>15020.0</td>\n",
              "      <td>7543.0</td>\n",
              "      <td>33191.0</td>\n",
              "      <td>NaN</td>\n",
              "      <td>64,243</td>\n",
              "      <td>19,061</td>\n",
              "      <td>9,292</td>\n",
              "      <td>19,330</td>\n",
              "      <td>18,670</td>\n",
              "      <td>NaN</td>\n",
              "      <td>NaN</td>\n",
              "      <td>NaN</td>\n",
              "      <td>NaN</td>\n",
              "      <td>NaN</td>\n",
              "      <td>NaN</td>\n",
              "      <td>NaN</td>\n",
              "      <td>NaN</td>\n",
              "      <td>NaN</td>\n",
              "    </tr>\n",
              "    <tr>\n",
              "      <th>1</th>\n",
              "      <td>2015</td>\n",
              "      <td>101,055</td>\n",
              "      <td>38,490</td>\n",
              "      <td>62,565</td>\n",
              "      <td>10.5</td>\n",
              "      <td>13.0</td>\n",
              "      <td>11.9</td>\n",
              "      <td>12.6</td>\n",
              "      <td>13.1</td>\n",
              "      <td>12.6</td>\n",
              "      <td>10.1</td>\n",
              "      <td>7.1</td>\n",
              "      <td>11.2</td>\n",
              "      <td>13.3</td>\n",
              "      <td>12.4</td>\n",
              "      <td>12.7</td>\n",
              "      <td>12.9</td>\n",
              "      <td>12.0</td>\n",
              "      <td>8.7</td>\n",
              "      <td>5.1</td>\n",
              "      <td>4475.0</td>\n",
              "      <td>14179.0</td>\n",
              "      <td>7673.0</td>\n",
              "      <td>32636.0</td>\n",
              "      <td>239,020</td>\n",
              "      <td>59,228</td>\n",
              "      <td>17,806</td>\n",
              "      <td>8,422</td>\n",
              "      <td>17,806</td>\n",
              "      <td>17,231</td>\n",
              "      <td>31.5</td>\n",
              "      <td>29.7</td>\n",
              "      <td>8.3</td>\n",
              "      <td>21.7</td>\n",
              "      <td>19.8</td>\n",
              "      <td>20.7</td>\n",
              "      <td>24.3</td>\n",
              "      <td>25.4</td>\n",
              "      <td>12.5</td>\n",
              "    </tr>\n",
              "    <tr>\n",
              "      <th>2</th>\n",
              "      <td>2014</td>\n",
              "      <td>111,169</td>\n",
              "      <td>41,364</td>\n",
              "      <td>69,803</td>\n",
              "      <td>13.2</td>\n",
              "      <td>13.5</td>\n",
              "      <td>14.0</td>\n",
              "      <td>13.9</td>\n",
              "      <td>14.6</td>\n",
              "      <td>13.7</td>\n",
              "      <td>11.0</td>\n",
              "      <td>7.4</td>\n",
              "      <td>12.1</td>\n",
              "      <td>14.8</td>\n",
              "      <td>14.5</td>\n",
              "      <td>13.8</td>\n",
              "      <td>14.9</td>\n",
              "      <td>12.8</td>\n",
              "      <td>9.4</td>\n",
              "      <td>5.5</td>\n",
              "      <td>5118.0</td>\n",
              "      <td>15630.0</td>\n",
              "      <td>8932.0</td>\n",
              "      <td>36908.0</td>\n",
              "      <td>247,372</td>\n",
              "      <td>65,375</td>\n",
              "      <td>20,110</td>\n",
              "      <td>9,810</td>\n",
              "      <td>20,386</td>\n",
              "      <td>19,726</td>\n",
              "      <td>31.2</td>\n",
              "      <td>29.5</td>\n",
              "      <td>8.6</td>\n",
              "      <td>23.0</td>\n",
              "      <td>20.9</td>\n",
              "      <td>22.1</td>\n",
              "      <td>25.9</td>\n",
              "      <td>26.2</td>\n",
              "      <td>12.8</td>\n",
              "    </tr>\n",
              "    <tr>\n",
              "      <th>3</th>\n",
              "      <td>2013</td>\n",
              "      <td>114,720</td>\n",
              "      <td>40,635</td>\n",
              "      <td>74,076</td>\n",
              "      <td>14.7</td>\n",
              "      <td>15.9</td>\n",
              "      <td>15.8</td>\n",
              "      <td>16.7</td>\n",
              "      <td>16.7</td>\n",
              "      <td>15.3</td>\n",
              "      <td>12.0</td>\n",
              "      <td>7.8</td>\n",
              "      <td>16.3</td>\n",
              "      <td>16.8</td>\n",
              "      <td>16.2</td>\n",
              "      <td>16.2</td>\n",
              "      <td>16.2</td>\n",
              "      <td>14.0</td>\n",
              "      <td>10.0</td>\n",
              "      <td>5.7</td>\n",
              "      <td>5263.0</td>\n",
              "      <td>15332.0</td>\n",
              "      <td>9907.0</td>\n",
              "      <td>39879.0</td>\n",
              "      <td>240,854</td>\n",
              "      <td>81,822</td>\n",
              "      <td>21,648</td>\n",
              "      <td>10,627</td>\n",
              "      <td>21,645</td>\n",
              "      <td>21,257</td>\n",
              "      <td>31.1</td>\n",
              "      <td>29.3</td>\n",
              "      <td>8.5</td>\n",
              "      <td>22.5</td>\n",
              "      <td>20.4</td>\n",
              "      <td>21.7</td>\n",
              "      <td>25.6</td>\n",
              "      <td>25.3</td>\n",
              "      <td>12.2</td>\n",
              "    </tr>\n",
              "    <tr>\n",
              "      <th>4</th>\n",
              "      <td>2012</td>\n",
              "      <td>118,140</td>\n",
              "      <td>41,601</td>\n",
              "      <td>76,490</td>\n",
              "      <td>17.5</td>\n",
              "      <td>17.4</td>\n",
              "      <td>17.3</td>\n",
              "      <td>17.9</td>\n",
              "      <td>17.8</td>\n",
              "      <td>15.8</td>\n",
              "      <td>11.9</td>\n",
              "      <td>7.7</td>\n",
              "      <td>17.0</td>\n",
              "      <td>18.7</td>\n",
              "      <td>17.5</td>\n",
              "      <td>17.0</td>\n",
              "      <td>16.8</td>\n",
              "      <td>14.3</td>\n",
              "      <td>9.7</td>\n",
              "      <td>5.7</td>\n",
              "      <td>5675.0</td>\n",
              "      <td>15210.0</td>\n",
              "      <td>10320.0</td>\n",
              "      <td>41248.0</td>\n",
              "      <td>263,640</td>\n",
              "      <td>83,684</td>\n",
              "      <td>22,791</td>\n",
              "      <td>11,014</td>\n",
              "      <td>22,597</td>\n",
              "      <td>22,222</td>\n",
              "      <td>31.0</td>\n",
              "      <td>29.1</td>\n",
              "      <td>9.3</td>\n",
              "      <td>24.6</td>\n",
              "      <td>22.5</td>\n",
              "      <td>23.9</td>\n",
              "      <td>28.4</td>\n",
              "      <td>27.2</td>\n",
              "      <td>13.4</td>\n",
              "    </tr>\n",
              "  </tbody>\n",
              "</table>\n",
              "</div>"
            ],
            "text/plain": [
              "   Year  ... Number Women Re-marrying per 1,000 single population aged 16 and over\n",
              "0  2016  ...                                                NaN                   \n",
              "1  2015  ...                                               12.5                   \n",
              "2  2014  ...                                               12.8                   \n",
              "3  2013  ...                                               12.2                   \n",
              "4  2012  ...                                               13.4                   \n",
              "\n",
              "[5 rows x 39 columns]"
            ]
          },
          "metadata": {
            "tags": []
          },
          "execution_count": 216
        }
      ]
    },
    {
      "cell_type": "code",
      "metadata": {
        "id": "eR4P5JqjqciS",
        "colab_type": "code",
        "outputId": "c1f3d745-5b21-4af6-dd8e-16ab44f517db",
        "colab": {
          "base_uri": "https://localhost:8080/",
          "height": 287
        }
      },
      "source": [
        "sns.heatmap(df[['Year','DRMale 20 to 24']].isnull())"
      ],
      "execution_count": 217,
      "outputs": [
        {
          "output_type": "execute_result",
          "data": {
            "text/plain": [
              "<matplotlib.axes._subplots.AxesSubplot at 0x7f910e8069e8>"
            ]
          },
          "metadata": {
            "tags": []
          },
          "execution_count": 217
        },
        {
          "output_type": "display_data",
          "data": {
            "image/png": "[encoded data removed]",
            "text/plain": [
              "<Figure size 432x288 with 2 Axes>"
            ]
          },
          "metadata": {
            "tags": []
          }
        }
      ]
    },
    {
      "cell_type": "code",
      "metadata": {
        "id": "P3Pers5kfllb",
        "colab_type": "code",
        "outputId": "de33650a-4c5a-4463-d309-2879a9994e5e",
        "colab": {
          "base_uri": "https://localhost:8080/",
          "height": 799
        }
      },
      "source": [
        "df.info()"
      ],
      "execution_count": 218,
      "outputs": [
        {
          "output_type": "stream",
          "text": [
            "<class 'pandas.core.frame.DataFrame'>\n",
            "RangeIndex: 116 entries, 0 to 115\n",
            "Data columns (total 39 columns):\n",
            "Year                                                                             116 non-null int64\n",
            "Total Number of Divorces                                                         116 non-null object\n",
            "Husband Submitted Divorce                                                        116 non-null object\n",
            "Wife Submitted Divorce                                                           116 non-null object\n",
            "DRMale 20 to 24                                                                  67 non-null float64\n",
            "DRMale 25 to 29                                                                  67 non-null float64\n",
            "DRMale 30 to 34                                                                  67 non-null float64\n",
            "DRMale 35 to 39                                                                  67 non-null float64\n",
            "DRMale 40 to 44                                                                  67 non-null float64\n",
            "DRMale 45 to 49                                                                  67 non-null float64\n",
            "DRMale 50 to 54                                                                  67 non-null float64\n",
            "DRMale 55 to 59                                                                  67 non-null float64\n",
            "DRFemale 20 to 24                                                                67 non-null float64\n",
            "DRFemale 25 to 29                                                                67 non-null float64\n",
            "DRFemale 30 to 34                                                                67 non-null float64\n",
            "DRFemale 35 to 39                                                                67 non-null float64\n",
            "DRFemale 40 to 44                                                                67 non-null float64\n",
            "DRFemale 45 to 49                                                                67 non-null float64\n",
            "DRFemale 50 to 54                                                                67 non-null float64\n",
            "DRFemale 55 to 59                                                                67 non-null float64\n",
            "Husband Submitted - Reason Adultery                                              38 non-null float64\n",
            "Husband Submitted - Reason Unreasonable Behaviour                                38 non-null float64\n",
            "Wife Submitted - Reason Adultery                                                 38 non-null float64\n",
            "Wife Submitted - Reason Unreasonable Behaviour                                   38 non-null float64\n",
            "Total Number of Marriages                                                        115 non-null object\n",
            "First marriage of both parties                                                   60 non-null object\n",
            "One party previously divorced                                                    60 non-null object\n",
            "Both parties previously divorced                                                 60 non-null object\n",
            "Husband - Previously Divorced                                                    60 non-null object\n",
            "Wife - Previously Divorced                                                       60 non-null object\n",
            "Median Age of Single Males Marriage                                              115 non-null float64\n",
            "Median Age of Single Females Marriage                                            115 non-null float64\n",
            "Persons marrying per 1,000 population of all ages                                115 non-null float64\n",
            "Men marrying per 1,000 unmarried1 men aged 16 and over                           115 non-null float64\n",
            "Women marrying per 1,000 unmarried1 women aged 16 and over                       115 non-null float64\n",
            "Number Men First Time marrying per 1,000 single population aged 16 and over      25 non-null float64\n",
            "Number Women First Time marrying per 1,000 single population aged 16 and over    25 non-null float64\n",
            "Number Men Re-marrying per 1,000 single population aged 16 and over              25 non-null float64\n",
            "Number Women Re-marrying per 1,000 single population aged 16 and over            25 non-null float64\n",
            "dtypes: float64(29), int64(1), object(9)\n",
            "memory usage: 35.5+ KB\n"
          ],
          "name": "stdout"
        }
      ]
    },
    {
      "cell_type": "code",
      "metadata": {
        "id": "-rwrlKpyXYTB",
        "colab_type": "code",
        "colab": {}
      },
      "source": [
        "df['Total Number of Divorces']=df['Total Number of Divorces'].str.replace(',','').astype(int)"
      ],
      "execution_count": 0,
      "outputs": []
    },
    {
      "cell_type": "code",
      "metadata": {
        "id": "i8FzlT40YFt6",
        "colab_type": "code",
        "colab": {}
      },
      "source": [
        "df['Husband Submitted Divorce']=df['Husband Submitted Divorce'].str.replace(',','').str.replace(':','')"
      ],
      "execution_count": 0,
      "outputs": []
    },
    {
      "cell_type": "code",
      "metadata": {
        "id": "G4C1DiX4ZjUX",
        "colab_type": "code",
        "colab": {}
      },
      "source": [
        "df = df.replace('NaN','0')\n",
        "df = df.fillna(0)"
      ],
      "execution_count": 0,
      "outputs": []
    },
    {
      "cell_type": "code",
      "metadata": {
        "id": "8bngjAbSZfrp",
        "colab_type": "code",
        "colab": {
          "base_uri": "https://localhost:8080/",
          "height": 230
        },
        "outputId": "226fb483-d9c6-41c4-d795-44b25b808683"
      },
      "source": [
        "df['Total Number of Marriages']"
      ],
      "execution_count": 222,
      "outputs": [
        {
          "output_type": "execute_result",
          "data": {
            "text/plain": [
              "0            0\n",
              "1      239,020\n",
              "2      247,372\n",
              "3      240,854\n",
              "4      263,640\n",
              "        ...   \n",
              "111    260,742\n",
              "112    257,856\n",
              "113    261,103\n",
              "114    261,750\n",
              "115    259,400\n",
              "Name: Total Number of Marriages, Length: 116, dtype: object"
            ]
          },
          "metadata": {
            "tags": []
          },
          "execution_count": 222
        }
      ]
    },
    {
      "cell_type": "code",
      "metadata": {
        "id": "G0KoLwvRaPpl",
        "colab_type": "code",
        "colab": {}
      },
      "source": [
        "df['Total Number of Marriages']=df['Total Number of Marriages'].str.replace(',','').astype(float)"
      ],
      "execution_count": 0,
      "outputs": []
    },
    {
      "cell_type": "code",
      "metadata": {
        "id": "6SeKBzP8kks1",
        "colab_type": "code",
        "colab": {
          "base_uri": "https://localhost:8080/",
          "height": 202
        },
        "outputId": "300aba24-4616-44e1-a4fa-b77ea82a13d3"
      },
      "source": [
        "df[df['Husband Submitted Divorce'].str.contains(':')==True]"
      ],
      "execution_count": 224,
      "outputs": [
        {
          "output_type": "execute_result",
          "data": {
            "text/html": [
              "<div>\n",
              "<style scoped>\n",
              "    .dataframe tbody tr th:only-of-type {\n",
              "        vertical-align: middle;\n",
              "    }\n",
              "\n",
              "    .dataframe tbody tr th {\n",
              "        vertical-align: top;\n",
              "    }\n",
              "\n",
              "    .dataframe thead th {\n",
              "        text-align: right;\n",
              "    }\n",
              "</style>\n",
              "<table border=\"1\" class=\"dataframe\">\n",
              "  <thead>\n",
              "    <tr style=\"text-align: right;\">\n",
              "      <th></th>\n",
              "      <th>Year</th>\n",
              "      <th>Total Number of Divorces</th>\n",
              "      <th>Husband Submitted Divorce</th>\n",
              "      <th>Wife Submitted Divorce</th>\n",
              "      <th>DRMale 20 to 24</th>\n",
              "      <th>DRMale 25 to 29</th>\n",
              "      <th>DRMale 30 to 34</th>\n",
              "      <th>DRMale 35 to 39</th>\n",
              "      <th>DRMale 40 to 44</th>\n",
              "      <th>DRMale 45 to 49</th>\n",
              "      <th>DRMale 50 to 54</th>\n",
              "      <th>DRMale 55 to 59</th>\n",
              "      <th>DRFemale 20 to 24</th>\n",
              "      <th>DRFemale 25 to 29</th>\n",
              "      <th>DRFemale 30 to 34</th>\n",
              "      <th>DRFemale 35 to 39</th>\n",
              "      <th>DRFemale 40 to 44</th>\n",
              "      <th>DRFemale 45 to 49</th>\n",
              "      <th>DRFemale 50 to 54</th>\n",
              "      <th>DRFemale 55 to 59</th>\n",
              "      <th>Husband Submitted - Reason Adultery</th>\n",
              "      <th>Husband Submitted - Reason Unreasonable Behaviour</th>\n",
              "      <th>Wife Submitted - Reason Adultery</th>\n",
              "      <th>Wife Submitted - Reason Unreasonable Behaviour</th>\n",
              "      <th>Total Number of Marriages</th>\n",
              "      <th>First marriage of both parties</th>\n",
              "      <th>One party previously divorced</th>\n",
              "      <th>Both parties previously divorced</th>\n",
              "      <th>Husband - Previously Divorced</th>\n",
              "      <th>Wife - Previously Divorced</th>\n",
              "      <th>Median Age of Single Males Marriage</th>\n",
              "      <th>Median Age of Single Females Marriage</th>\n",
              "      <th>Persons marrying per 1,000 population of all ages</th>\n",
              "      <th>Men marrying per 1,000 unmarried1 men aged 16 and over</th>\n",
              "      <th>Women marrying per 1,000 unmarried1 women aged 16 and over</th>\n",
              "      <th>Number Men First Time marrying per 1,000 single population aged 16 and over</th>\n",
              "      <th>Number Women First Time marrying per 1,000 single population aged 16 and over</th>\n",
              "      <th>Number Men Re-marrying per 1,000 single population aged 16 and over</th>\n",
              "      <th>Number Women Re-marrying per 1,000 single population aged 16 and over</th>\n",
              "    </tr>\n",
              "  </thead>\n",
              "  <tbody>\n",
              "  </tbody>\n",
              "</table>\n",
              "</div>"
            ],
            "text/plain": [
              "Empty DataFrame\n",
              "Columns: [Year, Total Number of Divorces, Husband Submitted Divorce, Wife Submitted Divorce, DRMale 20 to 24, DRMale 25 to 29, DRMale 30 to 34, DRMale 35 to 39, DRMale 40 to 44, DRMale 45 to 49, DRMale 50 to 54, DRMale 55 to 59, DRFemale 20 to 24, DRFemale 25 to 29, DRFemale 30 to 34, DRFemale 35 to 39, DRFemale 40 to 44, DRFemale 45 to 49, DRFemale 50 to 54, DRFemale 55 to 59, Husband Submitted - Reason Adultery, Husband Submitted - Reason Unreasonable Behaviour, Wife Submitted - Reason Adultery, Wife Submitted - Reason Unreasonable Behaviour, Total Number of Marriages, First marriage of both parties, One party previously divorced, Both parties previously divorced, Husband - Previously Divorced, Wife - Previously Divorced, Median Age of Single Males Marriage, Median Age of Single Females Marriage, Persons marrying per 1,000 population of all ages, Men marrying per 1,000 unmarried1 men aged 16 and over, Women marrying per 1,000 unmarried1 women aged 16 and over, Number Men First Time marrying per 1,000 single population aged 16 and over, Number Women First Time marrying per 1,000 single population aged 16 and over, Number Men Re-marrying per 1,000 single population aged 16 and over, Number Women Re-marrying per 1,000 single population aged 16 and over]\n",
              "Index: []"
            ]
          },
          "metadata": {
            "tags": []
          },
          "execution_count": 224
        }
      ]
    },
    {
      "cell_type": "code",
      "metadata": {
        "id": "HWhIWKGSk72z",
        "colab_type": "code",
        "colab": {
          "base_uri": "https://localhost:8080/",
          "height": 230
        },
        "outputId": "f06b26ef-b85f-4f4d-b0bd-616c65920a61"
      },
      "source": [
        "df['Husband Submitted Divorce']"
      ],
      "execution_count": 225,
      "outputs": [
        {
          "output_type": "execute_result",
          "data": {
            "text/plain": [
              "0      41669\n",
              "1      38490\n",
              "2      41364\n",
              "3      40635\n",
              "4      41601\n",
              "       ...  \n",
              "111      332\n",
              "112      309\n",
              "113      390\n",
              "114      361\n",
              "115      283\n",
              "Name: Husband Submitted Divorce, Length: 116, dtype: object"
            ]
          },
          "metadata": {
            "tags": []
          },
          "execution_count": 225
        }
      ]
    },
    {
      "cell_type": "code",
      "metadata": {
        "id": "zgnR5pEdaMlx",
        "colab_type": "code",
        "colab": {}
      },
      "source": [
        "df['Husband Submitted Divorce']=df['Husband Submitted Divorce'].str.replace(',','').str.replace(':','')\n",
        "df['Wife Submitted Divorce']=df['Wife Submitted Divorce'].str.replace(',','').str.replace(':','')"
      ],
      "execution_count": 0,
      "outputs": []
    },
    {
      "cell_type": "code",
      "metadata": {
        "id": "B8dD2jJulwUd",
        "colab_type": "code",
        "colab": {}
      },
      "source": [
        "df['Husband Submitted Divorce']=df['Husband Submitted Divorce'].str.replace('','0').astype(int)\n",
        "df['Wife Submitted Divorce']=df['Wife Submitted Divorce'].str.replace('','0').astype(int)"
      ],
      "execution_count": 0,
      "outputs": []
    },
    {
      "cell_type": "code",
      "metadata": {
        "id": "LQaCpn86lirB",
        "colab_type": "code",
        "colab": {
          "base_uri": "https://localhost:8080/",
          "height": 390
        },
        "outputId": "f2036dde-d381-49e9-81f2-d09247b7e688"
      },
      "source": [
        "df['Husband Submitted Divorce'][60:80].astype(int)"
      ],
      "execution_count": 199,
      "outputs": [
        {
          "output_type": "execute_result",
          "data": {
            "text/plain": [
              "60    1010905050\n",
              "61    1020003040\n",
              "62    1020402070\n",
              "63    1030304020\n",
              "64    1040603090\n",
              "65    1020805000\n",
              "66    1050103080\n",
              "67    1070005030\n",
              "68             0\n",
              "69             0\n",
              "70             0\n",
              "71             0\n",
              "72      60602030\n",
              "73      50205050\n",
              "74      40000000\n",
              "75      30203040\n",
              "76      30502050\n",
              "77      30802030\n",
              "78      30106000\n",
              "79      20209010\n",
              "Name: Husband Submitted Divorce, dtype: int64"
            ]
          },
          "metadata": {
            "tags": []
          },
          "execution_count": 199
        }
      ]
    },
    {
      "cell_type": "code",
      "metadata": {
        "id": "H7YA4bKRXa7W",
        "colab_type": "code",
        "colab": {}
      },
      "source": [
        "df['Total Number of Marriages']=df['Total Number of Marriages'].str.replace(',','').astype(float)\n",
        "df['First marriage of both parties']=df['First marriage of both parties'].str.replace(',','').astype(float)\n",
        "df['One party previously divorced']=df['One party previously divorced'].str.replace(',','').astype(float)\n",
        "df['Both parties previously divorced']=df['Both parties previously divorced'].str.replace(',','').astype(float)\n",
        "df['Husband - Previously Divorced']=df['Husband - Previously Divorced'].str.replace(',','').astype(float)\n",
        "df['Wife - Previously Divorced']=df['Wife - Previously Divorced'].str.replace(',','').astype(float)"
      ],
      "execution_count": 0,
      "outputs": []
    },
    {
      "cell_type": "code",
      "metadata": {
        "id": "mXq0bbE1maOh",
        "colab_type": "code",
        "colab": {}
      },
      "source": [
        ""
      ],
      "execution_count": 0,
      "outputs": []
    },
    {
      "cell_type": "code",
      "metadata": {
        "id": "oEA7XBf9fyIo",
        "colab_type": "code",
        "outputId": "dfa342cc-b7d5-49f9-ba88-949639d5ccb4",
        "colab": {
          "base_uri": "https://localhost:8080/",
          "height": 83
        }
      },
      "source": [
        "df.loc[:,df.columns.str.startswith('DRMale')].columns"
      ],
      "execution_count": 0,
      "outputs": [
        {
          "output_type": "execute_result",
          "data": {
            "text/plain": [
              "Index(['DRMale 20 to 24', 'DRMale 25 to 29', 'DRMale 30 to 34',\n",
              "       'DRMale 35 to 39', 'DRMale 40 to 44', 'DRMale 45 to 49',\n",
              "       'DRMale 50 to 54', 'DRMale 55 to 59'],\n",
              "      dtype='object')"
            ]
          },
          "metadata": {
            "tags": []
          },
          "execution_count": 16
        }
      ]
    },
    {
      "cell_type": "code",
      "metadata": {
        "id": "OKXsvHNsldrY",
        "colab_type": "code",
        "outputId": "7cc2372c-dff9-4ee9-e7f5-93a7383b51ca",
        "colab": {
          "base_uri": "https://localhost:8080/",
          "height": 425
        }
      },
      "source": [
        "df.columns"
      ],
      "execution_count": 0,
      "outputs": [
        {
          "output_type": "execute_result",
          "data": {
            "text/plain": [
              "Index(['Year', 'Total Number of Divorces', 'Husband Submitted Divorce',\n",
              "       'Wife Submitted Divorce', 'DRMale 20 to 24', 'DRMale 25 to 29',\n",
              "       'DRMale 30 to 34', 'DRMale 35 to 39', 'DRMale 40 to 44',\n",
              "       'DRMale 45 to 49', 'DRMale 50 to 54', 'DRMale 55 to 59',\n",
              "       'DRFemale 20 to 24', 'DRFemale 25 to 29', 'DRFemale 30 to 34',\n",
              "       'DRFemale 35 to 39', 'DRFemale 40 to 44', 'DRFemale 45 to 49',\n",
              "       'DRFemale 50 to 54', 'DRFemale 55 to 59',\n",
              "       'Husband Submitted - Reason Adultery',\n",
              "       'Husband Submitted - Reason Unreasonable Behaviour',\n",
              "       'Wife Submitted - Reason Adultery',\n",
              "       'Wife Submitted - Reason Unreasonable Behaviour',\n",
              "       'Total Number of Marriages', 'First marriage of both parties',\n",
              "       'One party previously divorced', 'Both parties previously divorced',\n",
              "       'Husband - Previously Divorced', 'Wife - Previously Divorced',\n",
              "       'Median Age of Single Males Marriage',\n",
              "       'Median Age of Single Females Marriage',\n",
              "       'Persons marrying per 1,000 population of all ages',\n",
              "       'Men marrying per 1,000 unmarried1 men aged 16 and over',\n",
              "       'Women marrying per 1,000 unmarried1 women aged 16 and over',\n",
              "       'Number Men First Time marrying per 1,000 single population aged 16 and over',\n",
              "       'Number Women First Time marrying per 1,000 single population aged 16 and over',\n",
              "       'Number Men Re-marrying per 1,000 single population aged 16 and over',\n",
              "       'Number Women Re-marrying per 1,000 single population aged 16 and over'],\n",
              "      dtype='object')"
            ]
          },
          "metadata": {
            "tags": []
          },
          "execution_count": 6
        }
      ]
    },
    {
      "cell_type": "code",
      "metadata": {
        "id": "znf9U9TOohPP",
        "colab_type": "code",
        "outputId": "7f3800bc-2731-4482-bfe0-c251b0b0c017",
        "colab": {
          "base_uri": "https://localhost:8080/",
          "height": 66
        }
      },
      "source": [
        "df.loc[:,df.columns.str.startswith('DRMale')].columns.values"
      ],
      "execution_count": 0,
      "outputs": [
        {
          "output_type": "execute_result",
          "data": {
            "text/plain": [
              "array(['DRMale 20 to 24', 'DRMale 25 to 29', 'DRMale 30 to 34',\n",
              "       'DRMale 35 to 39', 'DRMale 40 to 44', 'DRMale 45 to 49',\n",
              "       'DRMale 50 to 54', 'DRMale 55 to 59'], dtype=object)"
            ]
          },
          "metadata": {
            "tags": []
          },
          "execution_count": 29
        }
      ]
    },
    {
      "cell_type": "code",
      "metadata": {
        "id": "ZRejqOfskZ28",
        "colab_type": "code",
        "colab": {}
      },
      "source": [
        "male_Data=df.loc[:,['DRMale 20 to 24', 'DRMale 25 to 29', 'DRMale 30 to 34',\n",
        "       'DRMale 35 to 39', 'DRMale 40 to 44', 'DRMale 45 to 49',\n",
        "       'DRMale 50 to 54', 'DRMale 55 to 59','Year']].melt(id_vars=[\"Year\"], \n",
        "        var_name=\"Date\", \n",
        "        value_name=\"Value\")"
      ],
      "execution_count": 0,
      "outputs": []
    },
    {
      "cell_type": "code",
      "metadata": {
        "id": "81eDmcsupKiy",
        "colab_type": "code",
        "outputId": "b6ba2ab3-d1d2-48ca-f70f-5e131cfba35e",
        "colab": {
          "base_uri": "https://localhost:8080/",
          "height": 351
        }
      },
      "source": [
        "bins = [1901, 1911 , 1921, 1931,1941,1951,1961,1971,1981,1991,2001,2011,2016]\n",
        "\n",
        "male_Data.groupby([pd.cut(male_Data.Year, bins)])['Value'].sum().plot.bar()"
      ],
      "execution_count": 0,
      "outputs": [
        {
          "output_type": "execute_result",
          "data": {
            "text/plain": [
              "<matplotlib.axes._subplots.AxesSubplot at 0x7f7de2c2c3c8>"
            ]
          },
          "metadata": {
            "tags": []
          },
          "execution_count": 43
        },
        {
          "output_type": "display_data",
          "data": {
            "image/png": "[encoded data removed]",
            "text/plain": [
              "<Figure size 432x288 with 1 Axes>"
            ]
          },
          "metadata": {
            "tags": []
          }
        }
      ]
    },
    {
      "cell_type": "code",
      "metadata": {
        "id": "XrZ06iLqWE8w",
        "colab_type": "code",
        "colab": {}
      },
      "source": [
        "#the data is missgin from 1901 to 1941\n",
        "#this may be due to the world war\n",
        "#according to above data most no. of divorce was in the year between 1991-2001"
      ],
      "execution_count": 0,
      "outputs": []
    },
    {
      "cell_type": "code",
      "metadata": {
        "id": "ETC1WpGSWasz",
        "colab_type": "code",
        "colab": {
          "base_uri": "https://localhost:8080/",
          "height": 70
        },
        "outputId": "4e08017a-593e-4381-e6d1-48eee0b74bc9"
      },
      "source": [
        "df.loc[:,df.columns.str.startswith('DRFemale')].columns.values"
      ],
      "execution_count": 7,
      "outputs": [
        {
          "output_type": "execute_result",
          "data": {
            "text/plain": [
              "array(['DRFemale 20 to 24', 'DRFemale 25 to 29', 'DRFemale 30 to 34',\n",
              "       'DRFemale 35 to 39', 'DRFemale 40 to 44', 'DRFemale 45 to 49',\n",
              "       'DRFemale 50 to 54', 'DRFemale 55 to 59'], dtype=object)"
            ]
          },
          "metadata": {
            "tags": []
          },
          "execution_count": 7
        }
      ]
    },
    {
      "cell_type": "code",
      "metadata": {
        "id": "TfQgbzNZWaZU",
        "colab_type": "code",
        "colab": {}
      },
      "source": [
        "Female_data=df.loc[:,['DRFemale 20 to 24', 'DRFemale 25 to 29', 'DRFemale 30 to 34',\n",
        "       'DRFemale 35 to 39', 'DRFemale 40 to 44', 'DRFemale 45 to 49',\n",
        "       'DRFemale 50 to 54', 'DRFemale 55 to 59','Year']].melt(id_vars=[\"Year\"], \n",
        "        var_name=\"Date\", \n",
        "        value_name=\"Value\")"
      ],
      "execution_count": 0,
      "outputs": []
    },
    {
      "cell_type": "code",
      "metadata": {
        "id": "Q8zfLYQbWmY9",
        "colab_type": "code",
        "colab": {
          "base_uri": "https://localhost:8080/",
          "height": 352
        },
        "outputId": "51669719-b821-4a06-96f1-bd06e950eaa5"
      },
      "source": [
        "bins = [1901, 1911 , 1921, 1931,1941,1951,1961,1971,1981,1991,2001,2011,2016]\n",
        "\n",
        "Female_data.groupby([pd.cut(Female_data.Year, bins)])['Value'].sum().plot.bar()"
      ],
      "execution_count": 11,
      "outputs": [
        {
          "output_type": "execute_result",
          "data": {
            "text/plain": [
              "<matplotlib.axes._subplots.AxesSubplot at 0x7f910f35add8>"
            ]
          },
          "metadata": {
            "tags": []
          },
          "execution_count": 11
        },
        {
          "output_type": "display_data",
          "data": {
            "image/png": "[encoded data removed]",
            "text/plain": [
              "<Figure size 432x288 with 1 Axes>"
            ]
          },
          "metadata": {
            "tags": []
          }
        }
      ]
    },
    {
      "cell_type": "code",
      "metadata": {
        "id": "Xaav9pa9Wwo1",
        "colab_type": "code",
        "colab": {}
      },
      "source": [
        "#same for female most no. of divorces happended during this year gap 1991-2001"
      ],
      "execution_count": 0,
      "outputs": []
    },
    {
      "cell_type": "code",
      "metadata": {
        "id": "FfXolPfSXIEg",
        "colab_type": "code",
        "colab": {}
      },
      "source": [
        ""
      ],
      "execution_count": 0,
      "outputs": []
    }
  ]
}