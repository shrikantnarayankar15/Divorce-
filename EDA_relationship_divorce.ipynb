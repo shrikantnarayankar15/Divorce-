{
  "nbformat": 4,
  "nbformat_minor": 0,
  "metadata": {
    "colab": {
      "name": "EDA-relationship_divorce.ipynb",
      "provenance": [],
      "collapsed_sections": [],
      "toc_visible": true,
      "authorship_tag": "ABX9TyPmZJtnjvQiXHbGXAZDiUlQ",
      "include_colab_link": true
    },
    "kernelspec": {
      "name": "python3",
      "display_name": "Python 3"
    }
  },
  "cells": [
    {
      "cell_type": "markdown",
      "metadata": {
        "id": "view-in-github",
        "colab_type": "text"
      },
      "source": [
        "<a href=\"https://colab.research.google.com/github/shrikantnarayankar15/Divorce-/blob/master/EDA_relationship_divorce.ipynb\" target=\"_parent\"><img src=\"https://colab.research.google.com/assets/colab-badge.svg\" alt=\"Open In Colab\"/></a>"
      ]
    },
    {
      "cell_type": "code",
      "metadata": {
        "id": "B-m-UDahfOoB",
        "colab_type": "code",
        "colab": {}
      },
      "source": [
        "import pandas as pd\n",
        "import numpy as np\n",
        "import seaborn as sns"
      ],
      "execution_count": 0,
      "outputs": []
    },
    {
      "cell_type": "code",
      "metadata": {
        "id": "92zywbFqfbUe",
        "colab_type": "code",
        "colab": {}
      },
      "source": [
        "df = pd.read_csv(\"https://raw.githubusercontent.com/shrikantnarayankar15/Divorce-/master/UKDivorceAndMarriage.csv\")"
      ],
      "execution_count": 0,
      "outputs": []
    },
    {
      "cell_type": "code",
      "metadata": {
        "id": "9_vJz-Ojfkrl",
        "colab_type": "code",
        "outputId": "41c8bf15-71dd-4064-9231-a4d32c205ca2",
        "colab": {
          "base_uri": "https://localhost:8080/",
          "height": 360
        }
      },
      "source": [
        "df.head()"
      ],
      "execution_count": 0,
      "outputs": [
        {
          "output_type": "execute_result",
          "data": {
            "text/html": [
              "<div>\n",
              "<style scoped>\n",
              "    .dataframe tbody tr th:only-of-type {\n",
              "        vertical-align: middle;\n",
              "    }\n",
              "\n",
              "    .dataframe tbody tr th {\n",
              "        vertical-align: top;\n",
              "    }\n",
              "\n",
              "    .dataframe thead th {\n",
              "        text-align: right;\n",
              "    }\n",
              "</style>\n",
              "<table border=\"1\" class=\"dataframe\">\n",
              "  <thead>\n",
              "    <tr style=\"text-align: right;\">\n",
              "      <th></th>\n",
              "      <th>Year</th>\n",
              "      <th>Total Number of Divorces</th>\n",
              "      <th>Husband Submitted Divorce</th>\n",
              "      <th>Wife Submitted Divorce</th>\n",
              "      <th>DRMale 20 to 24</th>\n",
              "      <th>DRMale 25 to 29</th>\n",
              "      <th>DRMale 30 to 34</th>\n",
              "      <th>DRMale 35 to 39</th>\n",
              "      <th>DRMale 40 to 44</th>\n",
              "      <th>DRMale 45 to 49</th>\n",
              "      <th>DRMale 50 to 54</th>\n",
              "      <th>DRMale 55 to 59</th>\n",
              "      <th>DRFemale 20 to 24</th>\n",
              "      <th>DRFemale 25 to 29</th>\n",
              "      <th>DRFemale 30 to 34</th>\n",
              "      <th>DRFemale 35 to 39</th>\n",
              "      <th>DRFemale 40 to 44</th>\n",
              "      <th>DRFemale 45 to 49</th>\n",
              "      <th>DRFemale 50 to 54</th>\n",
              "      <th>DRFemale 55 to 59</th>\n",
              "      <th>Husband Submitted - Reason Adultery</th>\n",
              "      <th>Husband Submitted - Reason Unreasonable Behaviour</th>\n",
              "      <th>Wife Submitted - Reason Adultery</th>\n",
              "      <th>Wife Submitted - Reason Unreasonable Behaviour</th>\n",
              "      <th>Total Number of Marriages</th>\n",
              "      <th>First marriage of both parties</th>\n",
              "      <th>One party previously divorced</th>\n",
              "      <th>Both parties previously divorced</th>\n",
              "      <th>Husband - Previously Divorced</th>\n",
              "      <th>Wife - Previously Divorced</th>\n",
              "      <th>Median Age of Single Males Marriage</th>\n",
              "      <th>Median Age of Single Females Marriage</th>\n",
              "      <th>Persons marrying per 1,000 population of all ages</th>\n",
              "      <th>Men marrying per 1,000 unmarried1 men aged 16 and over</th>\n",
              "      <th>Women marrying per 1,000 unmarried1 women aged 16 and over</th>\n",
              "      <th>Number Men First Time marrying per 1,000 single population aged 16 and over</th>\n",
              "      <th>Number Women First Time marrying per 1,000 single population aged 16 and over</th>\n",
              "      <th>Number Men Re-marrying per 1,000 single population aged 16 and over</th>\n",
              "      <th>Number Women Re-marrying per 1,000 single population aged 16 and over</th>\n",
              "    </tr>\n",
              "  </thead>\n",
              "  <tbody>\n",
              "    <tr>\n",
              "      <th>0</th>\n",
              "      <td>2016</td>\n",
              "      <td>106,959</td>\n",
              "      <td>41,669</td>\n",
              "      <td>65,290</td>\n",
              "      <td>9.4</td>\n",
              "      <td>13.2</td>\n",
              "      <td>13.0</td>\n",
              "      <td>13.4</td>\n",
              "      <td>13.6</td>\n",
              "      <td>13.8</td>\n",
              "      <td>10.8</td>\n",
              "      <td>7.8</td>\n",
              "      <td>11.8</td>\n",
              "      <td>12.7</td>\n",
              "      <td>13.9</td>\n",
              "      <td>13.9</td>\n",
              "      <td>13.7</td>\n",
              "      <td>12.9</td>\n",
              "      <td>9.3</td>\n",
              "      <td>5.9</td>\n",
              "      <td>4429.0</td>\n",
              "      <td>15020.0</td>\n",
              "      <td>7543.0</td>\n",
              "      <td>33191.0</td>\n",
              "      <td>NaN</td>\n",
              "      <td>64,243</td>\n",
              "      <td>19,061</td>\n",
              "      <td>9,292</td>\n",
              "      <td>19,330</td>\n",
              "      <td>18,670</td>\n",
              "      <td>NaN</td>\n",
              "      <td>NaN</td>\n",
              "      <td>NaN</td>\n",
              "      <td>NaN</td>\n",
              "      <td>NaN</td>\n",
              "      <td>NaN</td>\n",
              "      <td>NaN</td>\n",
              "      <td>NaN</td>\n",
              "      <td>NaN</td>\n",
              "    </tr>\n",
              "    <tr>\n",
              "      <th>1</th>\n",
              "      <td>2015</td>\n",
              "      <td>101,055</td>\n",
              "      <td>38,490</td>\n",
              "      <td>62,565</td>\n",
              "      <td>10.5</td>\n",
              "      <td>13.0</td>\n",
              "      <td>11.9</td>\n",
              "      <td>12.6</td>\n",
              "      <td>13.1</td>\n",
              "      <td>12.6</td>\n",
              "      <td>10.1</td>\n",
              "      <td>7.1</td>\n",
              "      <td>11.2</td>\n",
              "      <td>13.3</td>\n",
              "      <td>12.4</td>\n",
              "      <td>12.7</td>\n",
              "      <td>12.9</td>\n",
              "      <td>12.0</td>\n",
              "      <td>8.7</td>\n",
              "      <td>5.1</td>\n",
              "      <td>4475.0</td>\n",
              "      <td>14179.0</td>\n",
              "      <td>7673.0</td>\n",
              "      <td>32636.0</td>\n",
              "      <td>239,020</td>\n",
              "      <td>59,228</td>\n",
              "      <td>17,806</td>\n",
              "      <td>8,422</td>\n",
              "      <td>17,806</td>\n",
              "      <td>17,231</td>\n",
              "      <td>31.5</td>\n",
              "      <td>29.7</td>\n",
              "      <td>8.3</td>\n",
              "      <td>21.7</td>\n",
              "      <td>19.8</td>\n",
              "      <td>20.7</td>\n",
              "      <td>24.3</td>\n",
              "      <td>25.4</td>\n",
              "      <td>12.5</td>\n",
              "    </tr>\n",
              "    <tr>\n",
              "      <th>2</th>\n",
              "      <td>2014</td>\n",
              "      <td>111,169</td>\n",
              "      <td>41,364</td>\n",
              "      <td>69,803</td>\n",
              "      <td>13.2</td>\n",
              "      <td>13.5</td>\n",
              "      <td>14.0</td>\n",
              "      <td>13.9</td>\n",
              "      <td>14.6</td>\n",
              "      <td>13.7</td>\n",
              "      <td>11.0</td>\n",
              "      <td>7.4</td>\n",
              "      <td>12.1</td>\n",
              "      <td>14.8</td>\n",
              "      <td>14.5</td>\n",
              "      <td>13.8</td>\n",
              "      <td>14.9</td>\n",
              "      <td>12.8</td>\n",
              "      <td>9.4</td>\n",
              "      <td>5.5</td>\n",
              "      <td>5118.0</td>\n",
              "      <td>15630.0</td>\n",
              "      <td>8932.0</td>\n",
              "      <td>36908.0</td>\n",
              "      <td>247,372</td>\n",
              "      <td>65,375</td>\n",
              "      <td>20,110</td>\n",
              "      <td>9,810</td>\n",
              "      <td>20,386</td>\n",
              "      <td>19,726</td>\n",
              "      <td>31.2</td>\n",
              "      <td>29.5</td>\n",
              "      <td>8.6</td>\n",
              "      <td>23.0</td>\n",
              "      <td>20.9</td>\n",
              "      <td>22.1</td>\n",
              "      <td>25.9</td>\n",
              "      <td>26.2</td>\n",
              "      <td>12.8</td>\n",
              "    </tr>\n",
              "    <tr>\n",
              "      <th>3</th>\n",
              "      <td>2013</td>\n",
              "      <td>114,720</td>\n",
              "      <td>40,635</td>\n",
              "      <td>74,076</td>\n",
              "      <td>14.7</td>\n",
              "      <td>15.9</td>\n",
              "      <td>15.8</td>\n",
              "      <td>16.7</td>\n",
              "      <td>16.7</td>\n",
              "      <td>15.3</td>\n",
              "      <td>12.0</td>\n",
              "      <td>7.8</td>\n",
              "      <td>16.3</td>\n",
              "      <td>16.8</td>\n",
              "      <td>16.2</td>\n",
              "      <td>16.2</td>\n",
              "      <td>16.2</td>\n",
              "      <td>14.0</td>\n",
              "      <td>10.0</td>\n",
              "      <td>5.7</td>\n",
              "      <td>5263.0</td>\n",
              "      <td>15332.0</td>\n",
              "      <td>9907.0</td>\n",
              "      <td>39879.0</td>\n",
              "      <td>240,854</td>\n",
              "      <td>81,822</td>\n",
              "      <td>21,648</td>\n",
              "      <td>10,627</td>\n",
              "      <td>21,645</td>\n",
              "      <td>21,257</td>\n",
              "      <td>31.1</td>\n",
              "      <td>29.3</td>\n",
              "      <td>8.5</td>\n",
              "      <td>22.5</td>\n",
              "      <td>20.4</td>\n",
              "      <td>21.7</td>\n",
              "      <td>25.6</td>\n",
              "      <td>25.3</td>\n",
              "      <td>12.2</td>\n",
              "    </tr>\n",
              "    <tr>\n",
              "      <th>4</th>\n",
              "      <td>2012</td>\n",
              "      <td>118,140</td>\n",
              "      <td>41,601</td>\n",
              "      <td>76,490</td>\n",
              "      <td>17.5</td>\n",
              "      <td>17.4</td>\n",
              "      <td>17.3</td>\n",
              "      <td>17.9</td>\n",
              "      <td>17.8</td>\n",
              "      <td>15.8</td>\n",
              "      <td>11.9</td>\n",
              "      <td>7.7</td>\n",
              "      <td>17.0</td>\n",
              "      <td>18.7</td>\n",
              "      <td>17.5</td>\n",
              "      <td>17.0</td>\n",
              "      <td>16.8</td>\n",
              "      <td>14.3</td>\n",
              "      <td>9.7</td>\n",
              "      <td>5.7</td>\n",
              "      <td>5675.0</td>\n",
              "      <td>15210.0</td>\n",
              "      <td>10320.0</td>\n",
              "      <td>41248.0</td>\n",
              "      <td>263,640</td>\n",
              "      <td>83,684</td>\n",
              "      <td>22,791</td>\n",
              "      <td>11,014</td>\n",
              "      <td>22,597</td>\n",
              "      <td>22,222</td>\n",
              "      <td>31.0</td>\n",
              "      <td>29.1</td>\n",
              "      <td>9.3</td>\n",
              "      <td>24.6</td>\n",
              "      <td>22.5</td>\n",
              "      <td>23.9</td>\n",
              "      <td>28.4</td>\n",
              "      <td>27.2</td>\n",
              "      <td>13.4</td>\n",
              "    </tr>\n",
              "  </tbody>\n",
              "</table>\n",
              "</div>"
            ],
            "text/plain": [
              "   Year  ... Number Women Re-marrying per 1,000 single population aged 16 and over\n",
              "0  2016  ...                                                NaN                   \n",
              "1  2015  ...                                               12.5                   \n",
              "2  2014  ...                                               12.8                   \n",
              "3  2013  ...                                               12.2                   \n",
              "4  2012  ...                                               13.4                   \n",
              "\n",
              "[5 rows x 39 columns]"
            ]
          },
          "metadata": {
            "tags": []
          },
          "execution_count": 19
        }
      ]
    },
    {
      "cell_type": "code",
      "metadata": {
        "id": "P3Pers5kfllb",
        "colab_type": "code",
        "outputId": "b9ad1b69-0d41-4017-98a0-1093db69180f",
        "colab": {
          "base_uri": "https://localhost:8080/",
          "height": 765
        }
      },
      "source": [
        "df.info()"
      ],
      "execution_count": 0,
      "outputs": [
        {
          "output_type": "stream",
          "text": [
            "<class 'pandas.core.frame.DataFrame'>\n",
            "RangeIndex: 116 entries, 0 to 115\n",
            "Data columns (total 39 columns):\n",
            "Year                                                                             116 non-null int64\n",
            "Total Number of Divorces                                                         116 non-null object\n",
            "Husband Submitted Divorce                                                        116 non-null object\n",
            "Wife Submitted Divorce                                                           116 non-null object\n",
            "DRMale 20 to 24                                                                  67 non-null float64\n",
            "DRMale 25 to 29                                                                  67 non-null float64\n",
            "DRMale 30 to 34                                                                  67 non-null float64\n",
            "DRMale 35 to 39                                                                  67 non-null float64\n",
            "DRMale 40 to 44                                                                  67 non-null float64\n",
            "DRMale 45 to 49                                                                  67 non-null float64\n",
            "DRMale 50 to 54                                                                  67 non-null float64\n",
            "DRMale 55 to 59                                                                  67 non-null float64\n",
            "DRFemale 20 to 24                                                                67 non-null float64\n",
            "DRFemale 25 to 29                                                                67 non-null float64\n",
            "DRFemale 30 to 34                                                                67 non-null float64\n",
            "DRFemale 35 to 39                                                                67 non-null float64\n",
            "DRFemale 40 to 44                                                                67 non-null float64\n",
            "DRFemale 45 to 49                                                                67 non-null float64\n",
            "DRFemale 50 to 54                                                                67 non-null float64\n",
            "DRFemale 55 to 59                                                                67 non-null float64\n",
            "Husband Submitted - Reason Adultery                                              38 non-null float64\n",
            "Husband Submitted - Reason Unreasonable Behaviour                                38 non-null float64\n",
            "Wife Submitted - Reason Adultery                                                 38 non-null float64\n",
            "Wife Submitted - Reason Unreasonable Behaviour                                   38 non-null float64\n",
            "Total Number of Marriages                                                        115 non-null object\n",
            "First marriage of both parties                                                   60 non-null object\n",
            "One party previously divorced                                                    60 non-null object\n",
            "Both parties previously divorced                                                 60 non-null object\n",
            "Husband - Previously Divorced                                                    60 non-null object\n",
            "Wife - Previously Divorced                                                       60 non-null object\n",
            "Median Age of Single Males Marriage                                              115 non-null float64\n",
            "Median Age of Single Females Marriage                                            115 non-null float64\n",
            "Persons marrying per 1,000 population of all ages                                115 non-null float64\n",
            "Men marrying per 1,000 unmarried1 men aged 16 and over                           115 non-null float64\n",
            "Women marrying per 1,000 unmarried1 women aged 16 and over                       115 non-null float64\n",
            "Number Men First Time marrying per 1,000 single population aged 16 and over      25 non-null float64\n",
            "Number Women First Time marrying per 1,000 single population aged 16 and over    25 non-null float64\n",
            "Number Men Re-marrying per 1,000 single population aged 16 and over              25 non-null float64\n",
            "Number Women Re-marrying per 1,000 single population aged 16 and over            25 non-null float64\n",
            "dtypes: float64(29), int64(1), object(9)\n",
            "memory usage: 35.5+ KB\n"
          ],
          "name": "stdout"
        }
      ]
    },
    {
      "cell_type": "markdown",
      "metadata": {
        "id": "7SE14gmG2S35",
        "colab_type": "text"
      },
      "source": [
        "#1.Data Preprocessing"
      ]
    },
    {
      "cell_type": "code",
      "metadata": {
        "id": "CXmFNAyg2QIY",
        "colab_type": "code",
        "colab": {}
      },
      "source": [
        "sns.heatmap(df.isnull())"
      ],
      "execution_count": 0,
      "outputs": []
    },
    {
      "cell_type": "code",
      "metadata": {
        "id": "96lkSEkH2Rdh",
        "colab_type": "code",
        "colab": {}
      },
      "source": [
        "#data is missing in this dataset ....\n",
        "# we have less data so we will remove only some of the data "
      ],
      "execution_count": 0,
      "outputs": []
    },
    {
      "cell_type": "code",
      "metadata": {
        "id": "aexK0wD3Bmq9",
        "colab_type": "code",
        "colab": {}
      },
      "source": [
        "#Deleting columns with less data\n",
        "df = df.loc[:, df.isnull().mean() < .7]\n"
      ],
      "execution_count": 0,
      "outputs": []
    },
    {
      "cell_type": "code",
      "metadata": {
        "id": "UwwxCG0bB1PR",
        "colab_type": "code",
        "outputId": "4c253a00-2ae7-42a2-e27e-3ab64c5d6a7e",
        "colab": {
          "base_uri": "https://localhost:8080/",
          "height": 697
        }
      },
      "source": [
        "df.info()"
      ],
      "execution_count": 0,
      "outputs": [
        {
          "output_type": "stream",
          "text": [
            "<class 'pandas.core.frame.DataFrame'>\n",
            "RangeIndex: 116 entries, 0 to 115\n",
            "Data columns (total 35 columns):\n",
            "Year                                                          116 non-null int64\n",
            "Total Number of Divorces                                      116 non-null object\n",
            "Husband Submitted Divorce                                     116 non-null object\n",
            "Wife Submitted Divorce                                        116 non-null object\n",
            "DRMale 20 to 24                                               67 non-null float64\n",
            "DRMale 25 to 29                                               67 non-null float64\n",
            "DRMale 30 to 34                                               67 non-null float64\n",
            "DRMale 35 to 39                                               67 non-null float64\n",
            "DRMale 40 to 44                                               67 non-null float64\n",
            "DRMale 45 to 49                                               67 non-null float64\n",
            "DRMale 50 to 54                                               67 non-null float64\n",
            "DRMale 55 to 59                                               67 non-null float64\n",
            "DRFemale 20 to 24                                             67 non-null float64\n",
            "DRFemale 25 to 29                                             67 non-null float64\n",
            "DRFemale 30 to 34                                             67 non-null float64\n",
            "DRFemale 35 to 39                                             67 non-null float64\n",
            "DRFemale 40 to 44                                             67 non-null float64\n",
            "DRFemale 45 to 49                                             67 non-null float64\n",
            "DRFemale 50 to 54                                             67 non-null float64\n",
            "DRFemale 55 to 59                                             67 non-null float64\n",
            "Husband Submitted - Reason Adultery                           38 non-null float64\n",
            "Husband Submitted - Reason Unreasonable Behaviour             38 non-null float64\n",
            "Wife Submitted - Reason Adultery                              38 non-null float64\n",
            "Wife Submitted - Reason Unreasonable Behaviour                38 non-null float64\n",
            "Total Number of Marriages                                     115 non-null object\n",
            "First marriage of both parties                                60 non-null object\n",
            "One party previously divorced                                 60 non-null object\n",
            "Both parties previously divorced                              60 non-null object\n",
            "Husband - Previously Divorced                                 60 non-null object\n",
            "Wife - Previously Divorced                                    60 non-null object\n",
            "Median Age of Single Males Marriage                           115 non-null float64\n",
            "Median Age of Single Females Marriage                         115 non-null float64\n",
            "Persons marrying per 1,000 population of all ages             115 non-null float64\n",
            "Men marrying per 1,000 unmarried1 men aged 16 and over        115 non-null float64\n",
            "Women marrying per 1,000 unmarried1 women aged 16 and over    115 non-null float64\n",
            "dtypes: float64(25), int64(1), object(9)\n",
            "memory usage: 31.8+ KB\n"
          ],
          "name": "stdout"
        }
      ]
    },
    {
      "cell_type": "code",
      "metadata": {
        "id": "-rwrlKpyXYTB",
        "colab_type": "code",
        "colab": {}
      },
      "source": [
        "df['Total Number of Divorces']=df['Total Number of Divorces'].str.replace(',','').astype(int)"
      ],
      "execution_count": 0,
      "outputs": []
    },
    {
      "cell_type": "code",
      "metadata": {
        "id": "RUcgScei9OyT",
        "colab_type": "code",
        "colab": {}
      },
      "source": [
        "df['Husband Submitted Divorce']=df['Husband Submitted Divorce'].str.replace(',','').str.replace(':','')\n",
        "df['Wife Submitted Divorce']=df['Wife Submitted Divorce'].str.replace(',','').str.replace(':','')\n",
        "\n",
        "df['Both parties previously divorced']=df['Both parties previously divorced'].str.replace(',','').astype('float')\n",
        "df['Husband - Previously Divorced']=df['Husband - Previously Divorced'].str.replace(',','').astype('float')\n",
        "df['Wife - Previously Divorced']=df['Wife - Previously Divorced'].str.replace(',','').astype('float')\n"
      ],
      "execution_count": 0,
      "outputs": []
    },
    {
      "cell_type": "code",
      "metadata": {
        "id": "4k0GxjZf_v2n",
        "colab_type": "code",
        "colab": {}
      },
      "source": [
        "df['Total Number of Marriages']=df['Total Number of Marriages'].str.replace(',','').astype('float')"
      ],
      "execution_count": 0,
      "outputs": []
    },
    {
      "cell_type": "code",
      "metadata": {
        "id": "pNIubjh3Ae4W",
        "colab_type": "code",
        "colab": {}
      },
      "source": [
        ""
      ],
      "execution_count": 0,
      "outputs": []
    },
    {
      "cell_type": "code",
      "metadata": {
        "id": "kzFSunmjAsDR",
        "colab_type": "code",
        "colab": {}
      },
      "source": [
        "df['First marriage of both parties']=df['First marriage of both parties'].str.replace(',','').astype('float')\n",
        "df['One party previously divorced']=df['One party previously divorced'].str.replace(',','').astype('float')\n"
      ],
      "execution_count": 0,
      "outputs": []
    },
    {
      "cell_type": "code",
      "metadata": {
        "id": "7Nrit81Jy4Bv",
        "colab_type": "code",
        "colab": {}
      },
      "source": [
        "df['Total Number of Marriages'] = df['Total Number of Marriages'].fillna(df['Total Number of Marriages'].mean())\n",
        "df['Median Age of Single Males Marriage']=df['Median Age of Single Males Marriage'].fillna(df['Median Age of Single Males Marriage'].mean())\n",
        "df['Persons marrying per 1,000 population of all ages']=df['Persons marrying per 1,000 population of all ages'].fillna(df['Persons marrying per 1,000 population of all ages'].mean())\n",
        "df['Men marrying per 1,000 unmarried1 men aged 16 and over']=df['Men marrying per 1,000 unmarried1 men aged 16 and over'].fillna(df['Men marrying per 1,000 unmarried1 men aged 16 and over'].mean())\n",
        "df['Women marrying per 1,000 unmarried1 women aged 16 and over']=df['Women marrying per 1,000 unmarried1 women aged 16 and over'].fillna(df['Women marrying per 1,000 unmarried1 women aged 16 and over'].mean())"
      ],
      "execution_count": 0,
      "outputs": []
    },
    {
      "cell_type": "code",
      "metadata": {
        "id": "zgnR5pEdaMlx",
        "colab_type": "code",
        "colab": {}
      },
      "source": [
        "df['Husband Submitted Divorce']=pd.to_numeric(df['Husband Submitted Divorce'], errors='coerce')\n",
        "df['Wife Submitted Divorce']=pd.to_numeric(df['Wife Submitted Divorce'], errors='coerce')"
      ],
      "execution_count": 0,
      "outputs": []
    },
    {
      "cell_type": "markdown",
      "metadata": {
        "id": "toc1UbnN2bvt",
        "colab_type": "text"
      },
      "source": [
        "#2.EDA on Data"
      ]
    },
    {
      "cell_type": "code",
      "metadata": {
        "id": "KO7G2P4V6-CS",
        "colab_type": "code",
        "outputId": "fecb6d10-a45b-4501-8d80-772fadcffa5e",
        "colab": {
          "base_uri": "https://localhost:8080/",
          "height": 170
        }
      },
      "source": [
        "bins = [1901, 1911 , 1921, 1931,1941,1951,1961,1971,1981,1991,2001,2011,2016]\n",
        "df.groupby([pd.cut(df.Year, bins)])['Total Number of Divorces'].sum().nlargest(7)"
      ],
      "execution_count": 0,
      "outputs": [
        {
          "output_type": "execute_result",
          "data": {
            "text/plain": [
              "Year\n",
              "(1981, 1991]    1519524\n",
              "(1991, 2001]    1517596\n",
              "(2001, 2011]    1328120\n",
              "(1971, 1981]    1291184\n",
              "(2011, 2016]     552043\n",
              "(1961, 1971]     445580\n",
              "(1941, 1951]     273850\n",
              "Name: Total Number of Divorces, dtype: int64"
            ]
          },
          "metadata": {
            "tags": []
          },
          "execution_count": 31
        }
      ]
    },
    {
      "cell_type": "code",
      "metadata": {
        "id": "68VlwGeN7Fmk",
        "colab_type": "code",
        "outputId": "f3eb6298-9b22-4ff9-d4a7-c59362cf044d",
        "colab": {
          "base_uri": "https://localhost:8080/",
          "height": 170
        }
      },
      "source": [
        "df.groupby([pd.cut(df.Year, bins)])['Total Number of Divorces'].sum().nsmallest(7)"
      ],
      "execution_count": 0,
      "outputs": [
        {
          "output_type": "execute_result",
          "data": {
            "text/plain": [
              "Year\n",
              "(1901, 1911]      6037\n",
              "(1911, 1921]     13770\n",
              "(1921, 1931]     30699\n",
              "(1931, 1941]     54951\n",
              "(1951, 1961]    265343\n",
              "(1941, 1951]    273850\n",
              "(1961, 1971]    445580\n",
              "Name: Total Number of Divorces, dtype: int64"
            ]
          },
          "metadata": {
            "tags": []
          },
          "execution_count": 32
        }
      ]
    },
    {
      "cell_type": "code",
      "metadata": {
        "id": "vVML-Zd24GjD",
        "colab_type": "code",
        "outputId": "098d9a77-40d6-4ac6-eeb6-c6f15f5ac29f",
        "colab": {
          "base_uri": "https://localhost:8080/",
          "height": 351
        }
      },
      "source": [
        "bins = [1901, 1911 , 1921, 1931,1941,1951,1961,1971,1981,1991,2001,2011,2016]\n",
        "df.groupby([pd.cut(df.Year, bins)])['Total Number of Divorces'].sum().plot.bar()\n",
        "# df.groupby([pd.cut(df.Year, bins)])['Husband Submitted Divorce'].sum().plot.hist()"
      ],
      "execution_count": 0,
      "outputs": [
        {
          "output_type": "execute_result",
          "data": {
            "text/plain": [
              "<matplotlib.axes._subplots.AxesSubplot at 0x7f440a201dd8>"
            ]
          },
          "metadata": {
            "tags": []
          },
          "execution_count": 33
        },
        {
          "output_type": "display_data",
          "data": {
            "image/png": "[encoded data removed]",
            "text/plain": [
              "<Figure size 432x288 with 1 Axes>"
            ]
          },
          "metadata": {
            "tags": []
          }
        }
      ]
    },
    {
      "cell_type": "markdown",
      "metadata": {
        "id": "GGbQs0S4SFOQ",
        "colab_type": "text"
      },
      "source": [
        "\n",
        "\n",
        "*   most number of divorce occured during the 1981,1991\n",
        "*   lowest during the 1901-1911\n",
        "\n"
      ]
    },
    {
      "cell_type": "code",
      "metadata": {
        "id": "D1JzRP7P7OuY",
        "colab_type": "code",
        "outputId": "91c557e2-6228-4343-f78f-ab72e98c5fe4",
        "colab": {
          "base_uri": "https://localhost:8080/",
          "height": 170
        }
      },
      "source": [
        "df.groupby([pd.cut(df.Year, bins)])['Husband Submitted Divorce'].sum().nlargest(7)"
      ],
      "execution_count": 0,
      "outputs": [
        {
          "output_type": "execute_result",
          "data": {
            "text/plain": [
              "Year\n",
              "(1991, 2001]    446043.0\n",
              "(1981, 1991]    428130.0\n",
              "(2001, 2011]    425225.0\n",
              "(1971, 1981]    409963.0\n",
              "(2011, 2016]    203759.0\n",
              "(1961, 1971]    180390.0\n",
              "(1951, 1961]    118504.0\n",
              "Name: Husband Submitted Divorce, dtype: float64"
            ]
          },
          "metadata": {
            "tags": []
          },
          "execution_count": 35
        }
      ]
    },
    {
      "cell_type": "code",
      "metadata": {
        "id": "D4UHUTVD8Ihu",
        "colab_type": "code",
        "outputId": "2109e216-ff12-48a1-e933-71bd52fb8350",
        "colab": {
          "base_uri": "https://localhost:8080/",
          "height": 170
        }
      },
      "source": [
        "df.groupby([pd.cut(df.Year, bins)])['Wife Submitted Divorce'].sum().nlargest(7)"
      ],
      "execution_count": 0,
      "outputs": [
        {
          "output_type": "execute_result",
          "data": {
            "text/plain": [
              "Year\n",
              "(1981, 1991]    1086539.0\n",
              "(1991, 2001]    1067834.0\n",
              "(2001, 2011]     901717.0\n",
              "(1971, 1981]     877232.0\n",
              "(2011, 2016]     348224.0\n",
              "(1961, 1971]     262039.0\n",
              "(1951, 1961]     146434.0\n",
              "Name: Wife Submitted Divorce, dtype: float64"
            ]
          },
          "metadata": {
            "tags": []
          },
          "execution_count": 36
        }
      ]
    },
    {
      "cell_type": "markdown",
      "metadata": {
        "id": "vwnDIFWaSOOX",
        "colab_type": "text"
      },
      "source": [
        "\n",
        "\n",
        "*   most no. of divorces are given by wife in the year 1981-1991\n"
      ]
    },
    {
      "cell_type": "code",
      "metadata": {
        "id": "zxsi6wFC-N3i",
        "colab_type": "code",
        "outputId": "02c80195-801c-4cd8-971b-66e135b28725",
        "colab": {
          "base_uri": "https://localhost:8080/",
          "height": 170
        }
      },
      "source": [
        "df.groupby([pd.cut(df.Year, bins)])['Both parties previously divorced'].sum().nlargest(7)"
      ],
      "execution_count": 0,
      "outputs": [
        {
          "output_type": "execute_result",
          "data": {
            "text/plain": [
              "Year\n",
              "(1991, 2001]    141501.0\n",
              "(2001, 2011]    131709.0\n",
              "(1981, 1991]    113238.0\n",
              "(2011, 2016]     49165.0\n",
              "(1971, 1981]     38843.0\n",
              "(1961, 1971]      6467.0\n",
              "(1951, 1961]      1681.0\n",
              "Name: Both parties previously divorced, dtype: float64"
            ]
          },
          "metadata": {
            "tags": []
          },
          "execution_count": 38
        }
      ]
    },
    {
      "cell_type": "code",
      "metadata": {
        "id": "9WMIeK18-XWh",
        "colab_type": "code",
        "outputId": "32542397-8a02-4e93-c651-a989fec85ee7",
        "colab": {
          "base_uri": "https://localhost:8080/",
          "height": 170
        }
      },
      "source": [
        "df.groupby([pd.cut(df.Year, bins)])['Husband - Previously Divorced'].sum().nlargest(7)"
      ],
      "execution_count": 0,
      "outputs": [
        {
          "output_type": "execute_result",
          "data": {
            "text/plain": [
              "Year\n",
              "(1991, 2001]    287776.0\n",
              "(2001, 2011]    267929.0\n",
              "(1981, 1991]    235142.0\n",
              "(1971, 1981]    102968.0\n",
              "(2011, 2016]    101764.0\n",
              "(1961, 1971]     23316.0\n",
              "(1951, 1961]      6343.0\n",
              "Name: Husband - Previously Divorced, dtype: float64"
            ]
          },
          "metadata": {
            "tags": []
          },
          "execution_count": 39
        }
      ]
    },
    {
      "cell_type": "code",
      "metadata": {
        "id": "lyxUIDjP-ZyV",
        "colab_type": "code",
        "outputId": "c8b0e973-98f4-4e6c-92ce-53ea21deb660",
        "colab": {
          "base_uri": "https://localhost:8080/",
          "height": 170
        }
      },
      "source": [
        "df['Wife - Previously Divorced']\n",
        "df.groupby([pd.cut(df.Year, bins)])['Wife - Previously Divorced'].sum().nlargest(7)"
      ],
      "execution_count": 0,
      "outputs": [
        {
          "output_type": "execute_result",
          "data": {
            "text/plain": [
              "Year\n",
              "(1991, 2001]    278168.0\n",
              "(2001, 2011]    262827.0\n",
              "(1981, 1991]    225181.0\n",
              "(1971, 1981]    100367.0\n",
              "(2011, 2016]     99106.0\n",
              "(1961, 1971]     22589.0\n",
              "(1951, 1961]      6066.0\n",
              "Name: Wife - Previously Divorced, dtype: float64"
            ]
          },
          "metadata": {
            "tags": []
          },
          "execution_count": 40
        }
      ]
    },
    {
      "cell_type": "code",
      "metadata": {
        "id": "7mfz3KW2-vLK",
        "colab_type": "code",
        "colab": {}
      },
      "source": [
        ""
      ],
      "execution_count": 0,
      "outputs": []
    },
    {
      "cell_type": "markdown",
      "metadata": {
        "id": "7EWRRYVf_GRU",
        "colab_type": "text"
      },
      "source": [
        "##Calculating percentage of divorce each year"
      ]
    },
    {
      "cell_type": "code",
      "metadata": {
        "id": "LFwlF14Q__Mb",
        "colab_type": "code",
        "outputId": "31baa594-25ad-4656-d69f-1dafbf7f0da0",
        "colab": {
          "base_uri": "https://localhost:8080/",
          "height": 255
        }
      },
      "source": [
        "((df.groupby([pd.cut(df.Year, bins)])['Total Number of Divorces'].sum()/df.groupby([pd.cut(df.Year, bins)])['Total Number of Marriages'].sum())*100)"
      ],
      "execution_count": 0,
      "outputs": [
        {
          "output_type": "execute_result",
          "data": {
            "text/plain": [
              "Year\n",
              "(1901, 1911]     0.227292\n",
              "(1911, 1921]     0.426622\n",
              "(1921, 1931]     0.974371\n",
              "(1931, 1941]     1.607419\n",
              "(1941, 1951]     7.919134\n",
              "(1951, 1961]     7.629387\n",
              "(1961, 1971]    11.649650\n",
              "(1971, 1981]    34.282449\n",
              "(1981, 1991]    44.497468\n",
              "(1991, 2001]    54.504322\n",
              "(2001, 2011]    53.497614\n",
              "(2011, 2016]    42.080889\n",
              "dtype: float64"
            ]
          },
          "metadata": {
            "tags": []
          },
          "execution_count": 41
        }
      ]
    },
    {
      "cell_type": "code",
      "metadata": {
        "id": "1x9zbBAi_Lvy",
        "colab_type": "code",
        "outputId": "6fdc2415-8935-4712-db62-b27afaf97106",
        "colab": {
          "base_uri": "https://localhost:8080/",
          "height": 351
        }
      },
      "source": [
        "((df.groupby([pd.cut(df.Year, bins)])['Total Number of Divorces'].sum()/df.groupby([pd.cut(df.Year, bins)])['Total Number of Marriages'].sum())*100).plot.bar()"
      ],
      "execution_count": 0,
      "outputs": [
        {
          "output_type": "execute_result",
          "data": {
            "text/plain": [
              "<matplotlib.axes._subplots.AxesSubplot at 0x7f440a126940>"
            ]
          },
          "metadata": {
            "tags": []
          },
          "execution_count": 42
        },
        {
          "output_type": "display_data",
          "data": {
            "image/png": "[encoded data removed]",
            "text/plain": [
              "<Figure size 432x288 with 1 Axes>"
            ]
          },
          "metadata": {
            "tags": []
          }
        }
      ]
    },
    {
      "cell_type": "markdown",
      "metadata": {
        "id": "j_1e5AnAABON",
        "colab_type": "text"
      },
      "source": [
        "#insights\n",
        "we can say that percentage of divorce is increasing every decade"
      ]
    },
    {
      "cell_type": "markdown",
      "metadata": {
        "id": "pX1BBvxlED0i",
        "colab_type": "text"
      },
      "source": [
        "##first marriage of both parties and divorce rate"
      ]
    },
    {
      "cell_type": "code",
      "metadata": {
        "id": "wy7F2e56E3GC",
        "colab_type": "code",
        "outputId": "a9bf3ec3-c1d3-43cd-fb67-c263166320b7",
        "colab": {
          "base_uri": "https://localhost:8080/",
          "height": 255
        }
      },
      "source": [
        "((df.groupby([pd.cut(df.Year, bins)])['First marriage of both parties'].sum()/df.groupby([pd.cut(df.Year, bins)])['Total Number of Divorces'].sum())*100)"
      ],
      "execution_count": 0,
      "outputs": [
        {
          "output_type": "execute_result",
          "data": {
            "text/plain": [
              "Year\n",
              "(1901, 1911]     0.000000\n",
              "(1911, 1921]     0.000000\n",
              "(1921, 1931]     0.000000\n",
              "(1931, 1941]     0.000000\n",
              "(1941, 1951]     0.000000\n",
              "(1951, 1961]    39.510746\n",
              "(1961, 1971]    88.658602\n",
              "(1971, 1981]    85.523519\n",
              "(1981, 1991]    76.134237\n",
              "(1991, 2001]    71.356738\n",
              "(2001, 2011]    69.384017\n",
              "(2011, 2016]    64.189203\n",
              "dtype: float64"
            ]
          },
          "metadata": {
            "tags": []
          },
          "execution_count": 43
        }
      ]
    },
    {
      "cell_type": "code",
      "metadata": {
        "id": "66BPHWZtCK1g",
        "colab_type": "code",
        "outputId": "73387478-6007-421a-b235-6056395471c2",
        "colab": {
          "base_uri": "https://localhost:8080/",
          "height": 351
        }
      },
      "source": [
        "((df.groupby([pd.cut(df.Year, bins)])['First marriage of both parties'].sum()/df.groupby([pd.cut(df.Year, bins)])['Total Number of Divorces'].sum())*100).plot.bar()"
      ],
      "execution_count": 0,
      "outputs": [
        {
          "output_type": "execute_result",
          "data": {
            "text/plain": [
              "<matplotlib.axes._subplots.AxesSubplot at 0x7f440a0c28d0>"
            ]
          },
          "metadata": {
            "tags": []
          },
          "execution_count": 44
        },
        {
          "output_type": "display_data",
          "data": {
            "image/png": "[encoded data removed]",
            "text/plain": [
              "<Figure size 432x288 with 1 Axes>"
            ]
          },
          "metadata": {
            "tags": []
          }
        }
      ]
    },
    {
      "cell_type": "markdown",
      "metadata": {
        "id": "BKXXczanSZXC",
        "colab_type": "text"
      },
      "source": [
        "###insights\n",
        "almost 75% marriages turned to divorce if we see the data "
      ]
    },
    {
      "cell_type": "code",
      "metadata": {
        "id": "RbptMtMME1gq",
        "colab_type": "code",
        "outputId": "9a7f6c2e-81e0-4c88-f0f0-4a412958d767",
        "colab": {
          "base_uri": "https://localhost:8080/",
          "height": 255
        }
      },
      "source": [
        "((df.groupby([pd.cut(df.Year, bins)])['One party previously divorced'].sum()/df.groupby([pd.cut(df.Year, bins)])['Total Number of Divorces'].sum())*100)"
      ],
      "execution_count": 0,
      "outputs": [
        {
          "output_type": "execute_result",
          "data": {
            "text/plain": [
              "Year\n",
              "(1901, 1911]     0.000000\n",
              "(1911, 1921]     0.000000\n",
              "(1921, 1931]     0.000000\n",
              "(1931, 1941]     0.000000\n",
              "(1941, 1951]     0.000000\n",
              "(1951, 1961]     3.409549\n",
              "(1961, 1971]     7.399569\n",
              "(1971, 1981]     9.731301\n",
              "(1981, 1991]    15.389490\n",
              "(1991, 2001]    18.644092\n",
              "(2001, 2011]    20.129055\n",
              "(2011, 2016]    18.371033\n",
              "dtype: float64"
            ]
          },
          "metadata": {
            "tags": []
          },
          "execution_count": 46
        }
      ]
    },
    {
      "cell_type": "code",
      "metadata": {
        "id": "2oAmLEPqDUvJ",
        "colab_type": "code",
        "outputId": "8ebf4938-2de6-45e4-c4ec-7461f1dd32b2",
        "colab": {
          "base_uri": "https://localhost:8080/",
          "height": 351
        }
      },
      "source": [
        "((df.groupby([pd.cut(df.Year, bins)])['One party previously divorced'].sum()/df.groupby([pd.cut(df.Year, bins)])['Total Number of Divorces'].sum())*100).plot.bar()"
      ],
      "execution_count": 0,
      "outputs": [
        {
          "output_type": "execute_result",
          "data": {
            "text/plain": [
              "<matplotlib.axes._subplots.AxesSubplot at 0x7f440a038cc0>"
            ]
          },
          "metadata": {
            "tags": []
          },
          "execution_count": 47
        },
        {
          "output_type": "display_data",
          "data": {
            "image/png": "[encoded data removed]",
            "text/plain": [
              "<Figure size 432x288 with 1 Axes>"
            ]
          },
          "metadata": {
            "tags": []
          }
        }
      ]
    },
    {
      "cell_type": "markdown",
      "metadata": {
        "id": "SFREObSySb8F",
        "colab_type": "text"
      },
      "source": [
        "###insights\n",
        "if one of the party is divorced earlier then there is 20% chance that he/she divorce again"
      ]
    },
    {
      "cell_type": "code",
      "metadata": {
        "id": "QW4uCFMkEz4C",
        "colab_type": "code",
        "outputId": "7b528a64-35bd-4274-e07b-b824aac3b248",
        "colab": {
          "base_uri": "https://localhost:8080/",
          "height": 255
        }
      },
      "source": [
        "((df.groupby([pd.cut(df.Year, bins)])['Both parties previously divorced'].sum()/df.groupby([pd.cut(df.Year, bins)])['Total Number of Divorces'].sum())*100)"
      ],
      "execution_count": 0,
      "outputs": [
        {
          "output_type": "execute_result",
          "data": {
            "text/plain": [
              "Year\n",
              "(1901, 1911]    0.000000\n",
              "(1911, 1921]    0.000000\n",
              "(1921, 1931]    0.000000\n",
              "(1931, 1941]    0.000000\n",
              "(1941, 1951]    0.000000\n",
              "(1951, 1961]    0.633520\n",
              "(1961, 1971]    1.451367\n",
              "(1971, 1981]    3.008324\n",
              "(1981, 1991]    7.452202\n",
              "(1991, 2001]    9.324023\n",
              "(2001, 2011]    9.916950\n",
              "(2011, 2016]    8.906009\n",
              "dtype: float64"
            ]
          },
          "metadata": {
            "tags": []
          },
          "execution_count": 49
        }
      ]
    },
    {
      "cell_type": "code",
      "metadata": {
        "id": "lYxGUX8-Eani",
        "colab_type": "code",
        "outputId": "12fcb2e4-573b-4199-ca1f-8a19620507b4",
        "colab": {
          "base_uri": "https://localhost:8080/",
          "height": 351
        }
      },
      "source": [
        "((df.groupby([pd.cut(df.Year, bins)])['Both parties previously divorced'].sum()/df.groupby([pd.cut(df.Year, bins)])['Total Number of Divorces'].sum())*100).plot.bar()"
      ],
      "execution_count": 0,
      "outputs": [
        {
          "output_type": "execute_result",
          "data": {
            "text/plain": [
              "<matplotlib.axes._subplots.AxesSubplot at 0x7f4409f51fd0>"
            ]
          },
          "metadata": {
            "tags": []
          },
          "execution_count": 50
        },
        {
          "output_type": "display_data",
          "data": {
            "image/png": "[encoded data removed]",
            "text/plain": [
              "<Figure size 432x288 with 1 Axes>"
            ]
          },
          "metadata": {
            "tags": []
          }
        }
      ]
    },
    {
      "cell_type": "markdown",
      "metadata": {
        "id": "-UIWOL5EShzw",
        "colab_type": "text"
      },
      "source": [
        "###insights\n",
        "if one of the party is divorced earlier then there is 20% chance that he/she divorce again"
      ]
    },
    {
      "cell_type": "code",
      "metadata": {
        "id": "RyT5J2THEqo4",
        "colab_type": "code",
        "outputId": "5064b860-5b18-4ce8-c3c3-f07faa7ac923",
        "colab": {
          "base_uri": "https://localhost:8080/",
          "height": 255
        }
      },
      "source": [
        "((df.groupby([pd.cut(df.Year, bins)])['Husband - Previously Divorced'].sum()/df.groupby([pd.cut(df.Year, bins)])['Total Number of Divorces'].sum())*100)"
      ],
      "execution_count": 0,
      "outputs": [
        {
          "output_type": "execute_result",
          "data": {
            "text/plain": [
              "Year\n",
              "(1901, 1911]     0.000000\n",
              "(1911, 1921]     0.000000\n",
              "(1921, 1931]     0.000000\n",
              "(1931, 1941]     0.000000\n",
              "(1941, 1951]     0.000000\n",
              "(1951, 1961]     2.390491\n",
              "(1961, 1971]     5.232730\n",
              "(1971, 1981]     7.974696\n",
              "(1981, 1991]    15.474714\n",
              "(1991, 2001]    18.962622\n",
              "(2001, 2011]    20.173554\n",
              "(2011, 2016]    18.434071\n",
              "dtype: float64"
            ]
          },
          "metadata": {
            "tags": []
          },
          "execution_count": 52
        }
      ]
    },
    {
      "cell_type": "code",
      "metadata": {
        "id": "jINkgHpDEebq",
        "colab_type": "code",
        "outputId": "5c320110-83ad-4db0-d867-303c022770f1",
        "colab": {
          "base_uri": "https://localhost:8080/",
          "height": 351
        }
      },
      "source": [
        "((df.groupby([pd.cut(df.Year, bins)])['Husband - Previously Divorced'].sum()/df.groupby([pd.cut(df.Year, bins)])['Total Number of Divorces'].sum())*100).plot.bar()"
      ],
      "execution_count": 0,
      "outputs": [
        {
          "output_type": "execute_result",
          "data": {
            "text/plain": [
              "<matplotlib.axes._subplots.AxesSubplot at 0x7f4409f32a20>"
            ]
          },
          "metadata": {
            "tags": []
          },
          "execution_count": 53
        },
        {
          "output_type": "display_data",
          "data": {
            "image/png": "[encoded data removed]",
            "text/plain": [
              "<Figure size 432x288 with 1 Axes>"
            ]
          },
          "metadata": {
            "tags": []
          }
        }
      ]
    },
    {
      "cell_type": "code",
      "metadata": {
        "id": "-GfezfXLEwHg",
        "colab_type": "code",
        "outputId": "dd63b182-50b2-47f1-8dac-d49fcf51de0a",
        "colab": {
          "base_uri": "https://localhost:8080/",
          "height": 255
        }
      },
      "source": [
        "((df.groupby([pd.cut(df.Year, bins)])['Wife - Previously Divorced'].sum()/df.groupby([pd.cut(df.Year, bins)])['Total Number of Divorces'].sum())*100)"
      ],
      "execution_count": 0,
      "outputs": [
        {
          "output_type": "execute_result",
          "data": {
            "text/plain": [
              "Year\n",
              "(1901, 1911]     0.000000\n",
              "(1911, 1921]     0.000000\n",
              "(1921, 1931]     0.000000\n",
              "(1931, 1941]     0.000000\n",
              "(1941, 1951]     0.000000\n",
              "(1951, 1961]     2.286098\n",
              "(1961, 1971]     5.069572\n",
              "(1971, 1981]     7.773253\n",
              "(1981, 1991]    14.819180\n",
              "(1991, 2001]    18.329516\n",
              "(2001, 2011]    19.789402\n",
              "(2011, 2016]    17.952587\n",
              "dtype: float64"
            ]
          },
          "metadata": {
            "tags": []
          },
          "execution_count": 54
        }
      ]
    },
    {
      "cell_type": "code",
      "metadata": {
        "id": "e6Jeo5lmEhls",
        "colab_type": "code",
        "outputId": "b3739523-fda3-40e4-e11b-2b81d54c393c",
        "colab": {
          "base_uri": "https://localhost:8080/",
          "height": 351
        }
      },
      "source": [
        "((df.groupby([pd.cut(df.Year, bins)])['Wife - Previously Divorced'].sum()/df.groupby([pd.cut(df.Year, bins)])['Total Number of Divorces'].sum())*100).plot.bar()"
      ],
      "execution_count": 0,
      "outputs": [
        {
          "output_type": "execute_result",
          "data": {
            "text/plain": [
              "<matplotlib.axes._subplots.AxesSubplot at 0x7f4409eac2b0>"
            ]
          },
          "metadata": {
            "tags": []
          },
          "execution_count": 55
        },
        {
          "output_type": "display_data",
          "data": {
            "image/png": "[encoded data removed]",
            "text/plain": [
              "<Figure size 432x288 with 1 Axes>"
            ]
          },
          "metadata": {
            "tags": []
          }
        }
      ]
    },
    {
      "cell_type": "markdown",
      "metadata": {
        "id": "8hP2b8EkSndL",
        "colab_type": "text"
      },
      "source": [
        "###insights\n",
        "If one of them is divorced ealier and the chances are 20% chance is that they may divorce again i.e. less chances if we compare with first time marriage."
      ]
    },
    {
      "cell_type": "code",
      "metadata": {
        "id": "ZRejqOfskZ28",
        "colab_type": "code",
        "colab": {}
      },
      "source": [
        "male_Data=df.loc[:,['DRMale 20 to 24', 'DRMale 25 to 29', 'DRMale 30 to 34',\n",
        "       'DRMale 35 to 39', 'DRMale 40 to 44', 'DRMale 45 to 49',\n",
        "       'DRMale 50 to 54', 'DRMale 55 to 59','Year']].melt(id_vars=[\"Year\"], \n",
        "        var_name=\"Age_gap\", \n",
        "        value_name=\"Value\")"
      ],
      "execution_count": 0,
      "outputs": []
    },
    {
      "cell_type": "code",
      "metadata": {
        "id": "KajmZFIPCYhI",
        "colab_type": "code",
        "outputId": "8e3700fb-fac8-49f2-8894-a4e13a8beca8",
        "colab": {
          "base_uri": "https://localhost:8080/",
          "height": 187
        }
      },
      "source": [
        "male_Data.groupby('Age_gap')['Value'].sum()"
      ],
      "execution_count": 0,
      "outputs": [
        {
          "output_type": "execute_result",
          "data": {
            "text/plain": [
              "Age_gap\n",
              "DRMale 20 to 24     985.2\n",
              "DRMale 25 to 29    1253.5\n",
              "DRMale 30 to 34    1158.2\n",
              "DRMale 35 to 39     994.5\n",
              "DRMale 40 to 44     832.4\n",
              "DRMale 45 to 49     656.6\n",
              "DRMale 50 to 54     448.8\n",
              "DRMale 55 to 59     305.2\n",
              "Name: Value, dtype: float64"
            ]
          },
          "metadata": {
            "tags": []
          },
          "execution_count": 59
        }
      ]
    },
    {
      "cell_type": "code",
      "metadata": {
        "id": "_zbbvV7XxaS9",
        "colab_type": "code",
        "outputId": "05bdc33a-e8b9-4a62-ab38-4df62aa43a6d",
        "colab": {
          "base_uri": "https://localhost:8080/",
          "height": 370
        }
      },
      "source": [
        "male_Data.groupby('Age_gap')['Value'].sum().plot.bar()"
      ],
      "execution_count": 0,
      "outputs": [
        {
          "output_type": "execute_result",
          "data": {
            "text/plain": [
              "<matplotlib.axes._subplots.AxesSubplot at 0x7f4409c539b0>"
            ]
          },
          "metadata": {
            "tags": []
          },
          "execution_count": 66
        },
        {
          "output_type": "display_data",
          "data": {
            "image/png": "[encoded data removed]",
            "text/plain": [
              "<Figure size 432x288 with 1 Axes>"
            ]
          },
          "metadata": {
            "tags": []
          }
        }
      ]
    },
    {
      "cell_type": "markdown",
      "metadata": {
        "id": "940YRfUkSr7h",
        "colab_type": "text"
      },
      "source": [
        "\n",
        "###insights\n",
        "males from AGE 25-29 have higher divorces and it goes on decreasing as the age increase"
      ]
    },
    {
      "cell_type": "markdown",
      "metadata": {
        "id": "UxPB9oYaTIN-",
        "colab_type": "text"
      },
      "source": [
        "###insights\n",
        "males from AGE 25-29 have higher divorces and it goes on decreasing as the age increase"
      ]
    },
    {
      "cell_type": "code",
      "metadata": {
        "id": "ETC1WpGSWasz",
        "colab_type": "code",
        "outputId": "77c504a4-7893-4ecf-ccd0-6c7aed601848",
        "colab": {
          "base_uri": "https://localhost:8080/",
          "height": 68
        }
      },
      "source": [
        "df.loc[:,df.columns.str.startswith('DRFemale')].columns.values"
      ],
      "execution_count": 0,
      "outputs": [
        {
          "output_type": "execute_result",
          "data": {
            "text/plain": [
              "array(['DRFemale 20 to 24', 'DRFemale 25 to 29', 'DRFemale 30 to 34',\n",
              "       'DRFemale 35 to 39', 'DRFemale 40 to 44', 'DRFemale 45 to 49',\n",
              "       'DRFemale 50 to 54', 'DRFemale 55 to 59'], dtype=object)"
            ]
          },
          "metadata": {
            "tags": []
          },
          "execution_count": 62
        }
      ]
    },
    {
      "cell_type": "code",
      "metadata": {
        "id": "TfQgbzNZWaZU",
        "colab_type": "code",
        "colab": {}
      },
      "source": [
        "Female_data=df.loc[:,['DRFemale 20 to 24', 'DRFemale 25 to 29', 'DRFemale 30 to 34',\n",
        "       'DRFemale 35 to 39', 'DRFemale 40 to 44', 'DRFemale 45 to 49',\n",
        "       'DRFemale 50 to 54', 'DRFemale 55 to 59','Year']].melt(id_vars=[\"Year\"], \n",
        "        var_name=\"Age_gap\", \n",
        "        value_name=\"Value\")"
      ],
      "execution_count": 0,
      "outputs": []
    },
    {
      "cell_type": "code",
      "metadata": {
        "id": "nnk9dsO9xz3H",
        "colab_type": "code",
        "outputId": "45018515-4347-4b4f-8522-acb70403dde4",
        "colab": {
          "base_uri": "https://localhost:8080/",
          "height": 187
        }
      },
      "source": [
        "Female_data.groupby('Age_gap')['Value'].sum()"
      ],
      "execution_count": 0,
      "outputs": [
        {
          "output_type": "execute_result",
          "data": {
            "text/plain": [
              "Age_gap\n",
              "DRFemale 20 to 24    1132.0\n",
              "DRFemale 25 to 29    1258.0\n",
              "DRFemale 30 to 34    1077.0\n",
              "DRFemale 35 to 39     901.5\n",
              "DRFemale 40 to 44     741.4\n",
              "DRFemale 45 to 49     551.2\n",
              "DRFemale 50 to 54     344.1\n",
              "DRFemale 55 to 59     222.3\n",
              "Name: Value, dtype: float64"
            ]
          },
          "metadata": {
            "tags": []
          },
          "execution_count": 71
        }
      ]
    },
    {
      "cell_type": "code",
      "metadata": {
        "id": "nObEuEH1x5rA",
        "colab_type": "code",
        "outputId": "c27972b1-eec6-482c-84da-7ed448b08637",
        "colab": {
          "base_uri": "https://localhost:8080/",
          "height": 383
        }
      },
      "source": [
        "Female_data.groupby('Age_gap')['Value'].sum().plot.bar()"
      ],
      "execution_count": 0,
      "outputs": [
        {
          "output_type": "execute_result",
          "data": {
            "text/plain": [
              "<matplotlib.axes._subplots.AxesSubplot at 0x7f4409a764a8>"
            ]
          },
          "metadata": {
            "tags": []
          },
          "execution_count": 72
        },
        {
          "output_type": "display_data",
          "data": {
            "image/png": "[encoded data removed]",
            "text/plain": [
              "<Figure size 432x288 with 1 Axes>"
            ]
          },
          "metadata": {
            "tags": []
          }
        }
      ]
    },
    {
      "cell_type": "markdown",
      "metadata": {
        "id": "plNMYBMaTGir",
        "colab_type": "text"
      },
      "source": [
        "###insights\n",
        "females from AGE 25-29 have higher divorces and it goes on decreasing as the age increase"
      ]
    },
    {
      "cell_type": "code",
      "metadata": {
        "id": "QkZP9qa_ylKh",
        "colab_type": "code",
        "outputId": "7265e8b6-2de3-432b-8b24-e2f4b6ffad52",
        "colab": {
          "base_uri": "https://localhost:8080/",
          "height": 697
        }
      },
      "source": [
        "df.info()"
      ],
      "execution_count": 0,
      "outputs": [
        {
          "output_type": "stream",
          "text": [
            "<class 'pandas.core.frame.DataFrame'>\n",
            "RangeIndex: 116 entries, 0 to 115\n",
            "Data columns (total 35 columns):\n",
            "Year                                                          116 non-null int64\n",
            "Total Number of Divorces                                      116 non-null int64\n",
            "Husband Submitted Divorce                                     112 non-null float64\n",
            "Wife Submitted Divorce                                        112 non-null float64\n",
            "DRMale 20 to 24                                               67 non-null float64\n",
            "DRMale 25 to 29                                               67 non-null float64\n",
            "DRMale 30 to 34                                               67 non-null float64\n",
            "DRMale 35 to 39                                               67 non-null float64\n",
            "DRMale 40 to 44                                               67 non-null float64\n",
            "DRMale 45 to 49                                               67 non-null float64\n",
            "DRMale 50 to 54                                               67 non-null float64\n",
            "DRMale 55 to 59                                               67 non-null float64\n",
            "DRFemale 20 to 24                                             67 non-null float64\n",
            "DRFemale 25 to 29                                             67 non-null float64\n",
            "DRFemale 30 to 34                                             67 non-null float64\n",
            "DRFemale 35 to 39                                             67 non-null float64\n",
            "DRFemale 40 to 44                                             67 non-null float64\n",
            "DRFemale 45 to 49                                             67 non-null float64\n",
            "DRFemale 50 to 54                                             67 non-null float64\n",
            "DRFemale 55 to 59                                             67 non-null float64\n",
            "Husband Submitted - Reason Adultery                           38 non-null float64\n",
            "Husband Submitted - Reason Unreasonable Behaviour             38 non-null float64\n",
            "Wife Submitted - Reason Adultery                              38 non-null float64\n",
            "Wife Submitted - Reason Unreasonable Behaviour                38 non-null float64\n",
            "Total Number of Marriages                                     116 non-null float64\n",
            "First marriage of both parties                                60 non-null float64\n",
            "One party previously divorced                                 60 non-null float64\n",
            "Both parties previously divorced                              60 non-null float64\n",
            "Husband - Previously Divorced                                 60 non-null float64\n",
            "Wife - Previously Divorced                                    60 non-null float64\n",
            "Median Age of Single Males Marriage                           115 non-null float64\n",
            "Median Age of Single Females Marriage                         115 non-null float64\n",
            "Persons marrying per 1,000 population of all ages             115 non-null float64\n",
            "Men marrying per 1,000 unmarried1 men aged 16 and over        115 non-null float64\n",
            "Women marrying per 1,000 unmarried1 women aged 16 and over    115 non-null float64\n",
            "dtypes: float64(33), int64(2)\n",
            "memory usage: 31.8 KB\n"
          ],
          "name": "stdout"
        }
      ]
    },
    {
      "cell_type": "code",
      "metadata": {
        "id": "WfHuI7taypyY",
        "colab_type": "code",
        "colab": {}
      },
      "source": [
        "df['Median Age of Single Males Marriage']=df['Median Age of Single Males Marriage'].fillna(df['Median Age of Single Males Marriage'].mean())"
      ],
      "execution_count": 0,
      "outputs": []
    },
    {
      "cell_type": "code",
      "metadata": {
        "id": "0pGie5ivyzhA",
        "colab_type": "code",
        "outputId": "3afac2cc-e523-4549-f94b-32ed6a89e26d",
        "colab": {
          "base_uri": "https://localhost:8080/",
          "height": 34
        }
      },
      "source": [
        "df['Median Age of Single Males Marriage'].min(),df['Median Age of Single Males Marriage'].max()"
      ],
      "execution_count": 0,
      "outputs": [
        {
          "output_type": "execute_result",
          "data": {
            "text/plain": [
              "(23.1, 31.5)"
            ]
          },
          "metadata": {
            "tags": []
          },
          "execution_count": 81
        }
      ]
    },
    {
      "cell_type": "code",
      "metadata": {
        "id": "iQ5zzZ9Fz7v9",
        "colab_type": "code",
        "colab": {}
      },
      "source": [
        "###insights\n",
        "#above we can say the range of age where single men do marriage and get divorce"
      ],
      "execution_count": 0,
      "outputs": []
    },
    {
      "cell_type": "code",
      "metadata": {
        "id": "VKYRpEDV0FAO",
        "colab_type": "code",
        "outputId": "e2e3e158-11d4-423c-9ff8-cad0fb8f893d",
        "colab": {
          "base_uri": "https://localhost:8080/",
          "height": 34
        }
      },
      "source": [
        "df['Median Age of Single Females Marriage'].min(),df['Median Age of Single Females Marriage'].max()"
      ],
      "execution_count": 0,
      "outputs": [
        {
          "output_type": "execute_result",
          "data": {
            "text/plain": [
              "(21.2, 29.7)"
            ]
          },
          "metadata": {
            "tags": []
          },
          "execution_count": 82
        }
      ]
    },
    {
      "cell_type": "code",
      "metadata": {
        "id": "EsQBcW9q0LKj",
        "colab_type": "code",
        "colab": {}
      },
      "source": [
        "###insights\n",
        "#above we can say the range of age where single women do marriage and get divorce"
      ],
      "execution_count": 0,
      "outputs": []
    },
    {
      "cell_type": "code",
      "metadata": {
        "id": "-CAkmw7F0Qwv",
        "colab_type": "code",
        "outputId": "b14beaee-183c-4e7f-c89c-9d4e841a6da0",
        "colab": {
          "base_uri": "https://localhost:8080/",
          "height": 351
        }
      },
      "source": [
        "df.groupby([pd.cut(df.Year, bins)])['Persons marrying per 1,000 population of all ages'].sum().plot.bar()"
      ],
      "execution_count": 0,
      "outputs": [
        {
          "output_type": "execute_result",
          "data": {
            "text/plain": [
              "<matplotlib.axes._subplots.AxesSubplot at 0x7f44098ca128>"
            ]
          },
          "metadata": {
            "tags": []
          },
          "execution_count": 86
        },
        {
          "output_type": "display_data",
          "data": {
            "image/png": "[encoded data removed]",
            "text/plain": [
              "<Figure size 432x288 with 1 Axes>"
            ]
          },
          "metadata": {
            "tags": []
          }
        }
      ]
    },
    {
      "cell_type": "markdown",
      "metadata": {
        "id": "x2-xtAatTB-a",
        "colab_type": "text"
      },
      "source": [
        "###insights\n",
        "for the two decade 1931,1941 and 1941,1951 the divorce rate was higher if we compare with total population"
      ]
    }
  ]
}